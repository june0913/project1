{
 "cells": [
  {
   "cell_type": "code",
   "execution_count": 9,
   "id": "7fd5db3d",
   "metadata": {},
   "outputs": [],
   "source": [
    "import pandas as pd\n",
    "\n",
    "ECLO_data = pd.read_csv('train.csv')"
   ]
  },
  {
   "cell_type": "code",
   "execution_count": 10,
   "id": "8a6f20f1",
   "metadata": {},
   "outputs": [
    {
     "data": {
      "text/html": [
       "<div>\n",
       "<style scoped>\n",
       "    .dataframe tbody tr th:only-of-type {\n",
       "        vertical-align: middle;\n",
       "    }\n",
       "\n",
       "    .dataframe tbody tr th {\n",
       "        vertical-align: top;\n",
       "    }\n",
       "\n",
       "    .dataframe thead th {\n",
       "        text-align: right;\n",
       "    }\n",
       "</style>\n",
       "<table border=\"1\" class=\"dataframe\">\n",
       "  <thead>\n",
       "    <tr style=\"text-align: right;\">\n",
       "      <th></th>\n",
       "      <th>ID</th>\n",
       "      <th>사고일시</th>\n",
       "      <th>요일</th>\n",
       "      <th>기상상태</th>\n",
       "      <th>시군구</th>\n",
       "      <th>도로형태</th>\n",
       "      <th>노면상태</th>\n",
       "      <th>사고유형</th>\n",
       "      <th>사고유형 - 세부분류</th>\n",
       "      <th>법규위반</th>\n",
       "      <th>...</th>\n",
       "      <th>가해운전자 상해정도</th>\n",
       "      <th>피해운전자 차종</th>\n",
       "      <th>피해운전자 성별</th>\n",
       "      <th>피해운전자 연령</th>\n",
       "      <th>피해운전자 상해정도</th>\n",
       "      <th>사망자수</th>\n",
       "      <th>중상자수</th>\n",
       "      <th>경상자수</th>\n",
       "      <th>부상자수</th>\n",
       "      <th>ECLO</th>\n",
       "    </tr>\n",
       "  </thead>\n",
       "  <tbody>\n",
       "    <tr>\n",
       "      <th>0</th>\n",
       "      <td>ACCIDENT_00000</td>\n",
       "      <td>2019-01-01 00</td>\n",
       "      <td>화요일</td>\n",
       "      <td>맑음</td>\n",
       "      <td>대구광역시 중구 대신동</td>\n",
       "      <td>단일로 - 기타</td>\n",
       "      <td>건조</td>\n",
       "      <td>차대사람</td>\n",
       "      <td>길가장자리구역통행중</td>\n",
       "      <td>안전운전불이행</td>\n",
       "      <td>...</td>\n",
       "      <td>상해없음</td>\n",
       "      <td>보행자</td>\n",
       "      <td>여</td>\n",
       "      <td>70세</td>\n",
       "      <td>중상</td>\n",
       "      <td>0</td>\n",
       "      <td>1</td>\n",
       "      <td>0</td>\n",
       "      <td>0</td>\n",
       "      <td>5</td>\n",
       "    </tr>\n",
       "    <tr>\n",
       "      <th>1</th>\n",
       "      <td>ACCIDENT_00001</td>\n",
       "      <td>2019-01-01 00</td>\n",
       "      <td>화요일</td>\n",
       "      <td>흐림</td>\n",
       "      <td>대구광역시 달서구 감삼동</td>\n",
       "      <td>단일로 - 기타</td>\n",
       "      <td>건조</td>\n",
       "      <td>차대사람</td>\n",
       "      <td>보도통행중</td>\n",
       "      <td>기타</td>\n",
       "      <td>...</td>\n",
       "      <td>상해없음</td>\n",
       "      <td>보행자</td>\n",
       "      <td>남</td>\n",
       "      <td>61세</td>\n",
       "      <td>경상</td>\n",
       "      <td>0</td>\n",
       "      <td>0</td>\n",
       "      <td>1</td>\n",
       "      <td>0</td>\n",
       "      <td>3</td>\n",
       "    </tr>\n",
       "    <tr>\n",
       "      <th>2</th>\n",
       "      <td>ACCIDENT_00002</td>\n",
       "      <td>2019-01-01 01</td>\n",
       "      <td>화요일</td>\n",
       "      <td>맑음</td>\n",
       "      <td>대구광역시 수성구 두산동</td>\n",
       "      <td>단일로 - 기타</td>\n",
       "      <td>건조</td>\n",
       "      <td>차대사람</td>\n",
       "      <td>차도통행중</td>\n",
       "      <td>안전운전불이행</td>\n",
       "      <td>...</td>\n",
       "      <td>상해없음</td>\n",
       "      <td>보행자</td>\n",
       "      <td>남</td>\n",
       "      <td>38세</td>\n",
       "      <td>경상</td>\n",
       "      <td>0</td>\n",
       "      <td>0</td>\n",
       "      <td>1</td>\n",
       "      <td>0</td>\n",
       "      <td>3</td>\n",
       "    </tr>\n",
       "    <tr>\n",
       "      <th>3</th>\n",
       "      <td>ACCIDENT_00003</td>\n",
       "      <td>2019-01-01 02</td>\n",
       "      <td>화요일</td>\n",
       "      <td>맑음</td>\n",
       "      <td>대구광역시 북구 복현동</td>\n",
       "      <td>단일로 - 기타</td>\n",
       "      <td>건조</td>\n",
       "      <td>차대차</td>\n",
       "      <td>추돌</td>\n",
       "      <td>안전운전불이행</td>\n",
       "      <td>...</td>\n",
       "      <td>상해없음</td>\n",
       "      <td>승용</td>\n",
       "      <td>남</td>\n",
       "      <td>36세</td>\n",
       "      <td>중상</td>\n",
       "      <td>0</td>\n",
       "      <td>1</td>\n",
       "      <td>0</td>\n",
       "      <td>0</td>\n",
       "      <td>5</td>\n",
       "    </tr>\n",
       "    <tr>\n",
       "      <th>4</th>\n",
       "      <td>ACCIDENT_00004</td>\n",
       "      <td>2019-01-01 04</td>\n",
       "      <td>화요일</td>\n",
       "      <td>맑음</td>\n",
       "      <td>대구광역시 동구 신암동</td>\n",
       "      <td>단일로 - 기타</td>\n",
       "      <td>건조</td>\n",
       "      <td>차대차</td>\n",
       "      <td>추돌</td>\n",
       "      <td>안전운전불이행</td>\n",
       "      <td>...</td>\n",
       "      <td>상해없음</td>\n",
       "      <td>승용</td>\n",
       "      <td>남</td>\n",
       "      <td>52세</td>\n",
       "      <td>경상</td>\n",
       "      <td>0</td>\n",
       "      <td>0</td>\n",
       "      <td>1</td>\n",
       "      <td>0</td>\n",
       "      <td>3</td>\n",
       "    </tr>\n",
       "  </tbody>\n",
       "</table>\n",
       "<p>5 rows × 23 columns</p>\n",
       "</div>"
      ],
      "text/plain": [
       "               ID           사고일시   요일 기상상태            시군구      도로형태 노면상태  \\\n",
       "0  ACCIDENT_00000  2019-01-01 00  화요일   맑음   대구광역시 중구 대신동  단일로 - 기타   건조   \n",
       "1  ACCIDENT_00001  2019-01-01 00  화요일   흐림  대구광역시 달서구 감삼동  단일로 - 기타   건조   \n",
       "2  ACCIDENT_00002  2019-01-01 01  화요일   맑음  대구광역시 수성구 두산동  단일로 - 기타   건조   \n",
       "3  ACCIDENT_00003  2019-01-01 02  화요일   맑음   대구광역시 북구 복현동  단일로 - 기타   건조   \n",
       "4  ACCIDENT_00004  2019-01-01 04  화요일   맑음   대구광역시 동구 신암동  단일로 - 기타   건조   \n",
       "\n",
       "   사고유형 사고유형 - 세부분류     법규위반  ... 가해운전자 상해정도 피해운전자 차종 피해운전자 성별 피해운전자 연령  \\\n",
       "0  차대사람  길가장자리구역통행중  안전운전불이행  ...       상해없음      보행자        여      70세   \n",
       "1  차대사람       보도통행중       기타  ...       상해없음      보행자        남      61세   \n",
       "2  차대사람       차도통행중  안전운전불이행  ...       상해없음      보행자        남      38세   \n",
       "3   차대차          추돌  안전운전불이행  ...       상해없음       승용        남      36세   \n",
       "4   차대차          추돌  안전운전불이행  ...       상해없음       승용        남      52세   \n",
       "\n",
       "  피해운전자 상해정도 사망자수 중상자수 경상자수  부상자수  ECLO  \n",
       "0         중상    0    1    0     0     5  \n",
       "1         경상    0    0    1     0     3  \n",
       "2         경상    0    0    1     0     3  \n",
       "3         중상    0    1    0     0     5  \n",
       "4         경상    0    0    1     0     3  \n",
       "\n",
       "[5 rows x 23 columns]"
      ]
     },
     "execution_count": 10,
     "metadata": {},
     "output_type": "execute_result"
    }
   ],
   "source": [
    "ECLO_data.head()"
   ]
  },
  {
   "cell_type": "code",
   "execution_count": 11,
   "id": "daff17f5",
   "metadata": {},
   "outputs": [
    {
     "name": "stdout",
     "output_type": "stream",
     "text": [
      "ECLO\n",
      "3     18675\n",
      "5      6743\n",
      "6      4967\n",
      "1      2578\n",
      "9      1528\n",
      "8      1152\n",
      "4       818\n",
      "10      611\n",
      "12      611\n",
      "11      394\n",
      "15      283\n",
      "7       263\n",
      "13      194\n",
      "2       150\n",
      "14      145\n",
      "16      101\n",
      "18       89\n",
      "17       78\n",
      "20       39\n",
      "19       36\n",
      "21       33\n",
      "24       18\n",
      "23       17\n",
      "22       17\n",
      "26       12\n",
      "27       11\n",
      "25        7\n",
      "28        6\n",
      "30        5\n",
      "31        4\n",
      "34        3\n",
      "32        3\n",
      "37        3\n",
      "33        2\n",
      "35        2\n",
      "36        1\n",
      "40        1\n",
      "65        1\n",
      "56        1\n",
      "47        1\n",
      "57        1\n",
      "45        1\n",
      "52        1\n",
      "74        1\n",
      "39        1\n",
      "66        1\n",
      "Name: count, dtype: int64\n"
     ]
    }
   ],
   "source": [
    "print(ECLO_data['ECLO'].value_counts())"
   ]
  },
  {
   "cell_type": "code",
   "execution_count": 12,
   "id": "f2203273",
   "metadata": {},
   "outputs": [
    {
     "name": "stdout",
     "output_type": "stream",
     "text": [
      "<class 'pandas.core.frame.DataFrame'>\n",
      "RangeIndex: 39609 entries, 0 to 39608\n",
      "Data columns (total 23 columns):\n",
      " #   Column       Non-Null Count  Dtype \n",
      "---  ------       --------------  ----- \n",
      " 0   ID           39609 non-null  object\n",
      " 1   사고일시         39609 non-null  object\n",
      " 2   요일           39609 non-null  object\n",
      " 3   기상상태         39609 non-null  object\n",
      " 4   시군구          39609 non-null  object\n",
      " 5   도로형태         39609 non-null  object\n",
      " 6   노면상태         39609 non-null  object\n",
      " 7   사고유형         39609 non-null  object\n",
      " 8   사고유형 - 세부분류  39609 non-null  object\n",
      " 9   법규위반         39609 non-null  object\n",
      " 10  가해운전자 차종     39609 non-null  object\n",
      " 11  가해운전자 성별     39609 non-null  object\n",
      " 12  가해운전자 연령     39609 non-null  object\n",
      " 13  가해운전자 상해정도   39609 non-null  object\n",
      " 14  피해운전자 차종     38618 non-null  object\n",
      " 15  피해운전자 성별     38618 non-null  object\n",
      " 16  피해운전자 연령     38618 non-null  object\n",
      " 17  피해운전자 상해정도   38618 non-null  object\n",
      " 18  사망자수         39609 non-null  int64 \n",
      " 19  중상자수         39609 non-null  int64 \n",
      " 20  경상자수         39609 non-null  int64 \n",
      " 21  부상자수         39609 non-null  int64 \n",
      " 22  ECLO         39609 non-null  int64 \n",
      "dtypes: int64(5), object(18)\n",
      "memory usage: 7.0+ MB\n"
     ]
    }
   ],
   "source": [
    "ECLO_data.info()"
   ]
  },
  {
   "cell_type": "code",
   "execution_count": 35,
   "id": "eeb63cdd",
   "metadata": {},
   "outputs": [],
   "source": [
    "from sklearn.model_selection import train_test_split\n",
    "\n",
    "# ID, 가해운전자 차종, 가해운전자 성별, 피해운전자 차종, 피해운전자 성별, 삭제\n",
    "def get_preprocessed_df(df=None):\n",
    "    df_copy = df.copy()\n",
    "    df_copy.drop(['ID','가해운전자 차종', '가해운전자 성별', '피해운전자 차종', '피해운전자 성별','사망자수','중상자수','경상자수','부상자수'], axis=1, inplace = True)\n",
    "    return df_copy"
   ]
  },
  {
   "cell_type": "code",
   "execution_count": 36,
   "id": "ca498067",
   "metadata": {},
   "outputs": [],
   "source": [
    "def get_train_test_dataset(df=None):\n",
    "    df_copy = get_preprocessed_df(df)\n",
    "    X_features = df_copy.iloc[:, :-1]\n",
    "    y_target=df_copy.iloc[:, -1]\n",
    "    \n",
    "    X_train, X_test, y_train, y_test =\\\n",
    "    train_test_split(X_features, y_target, test_size=0.3, random_state=0)\n",
    "    return X_train, X_test, y_train, y_test\n",
    "\n",
    "X_train, X_test, y_train, y_test = get_train_test_dataset(ECLO_data)"
   ]
  },
  {
   "cell_type": "code",
   "execution_count": 37,
   "id": "fb6f1e06",
   "metadata": {},
   "outputs": [],
   "source": [
    "from sklearn.metrics import accuracy_score, precision_score, recall_score, f1_score, roc_auc_score, confusion_matrix\n",
    "\n",
    "def get_clf_eval(y_test, pred, pred_proba):\n",
    "    # 오차 행렬, 정확도, 정밀도, 재현율, F1 스코어, ROC-AUC를 출력하는 함수\n",
    "# 오차 행렬을 계산합니다. \n",
    "# 오차 행렬은 실제 레이블과 예측 레이블을 비교하여 True Positives, False Positives,\n",
    "# True Negatives, False Negatives의 수를 표시합니다.\n",
    "    confusion = confusion_matrix(y_test, pred)\n",
    "\n",
    "# 정확도를 계산합니다.\n",
    "# 정확도는 전체 데이터 중에서 올바르게 예측된 데이터의 비율입니다.\n",
    "    accuracy = accuracy_score(y_test, pred)\n",
    "\n",
    "# 정밀도를 계산합니다.\n",
    "# 정밀도는 양성으로 예측된 데이터 중 실제로 양성인 데이터의 비율입니다.\n",
    "    precision = precision_score(y_test, pred)\n",
    "\n",
    "# 재현율을 계산합니다.\n",
    "# 재현율(민감도)는 실제 양성 데이터 중 모델이 양성으로 예측한 데이터의 비율입니다.\n",
    "    recall = recall_score(y_test, pred)\n",
    "\n",
    "# F1 스코어를 계산합니다.\n",
    "# F1 스코어는 정밀도와 재현율의 조화 평균이며, 두 지표의 균형을 나타냅니다.\n",
    "    f1 = f1_score(y_test, pred)\n",
    "\n",
    "# ROC-AUC 스코어를 계산합니다.\n",
    "# ROC-AUC는 모델의 수신자 조작 특성 곡선(ROC) 아래의 면적을 측정하며,\n",
    "# 1에 가까울수록 좋은 성능을 나타냅니다.\n",
    "    roc_auc = roc_auc_score(y_test, pred_proba)\n",
    "\n",
    "# 계산된 성능 지표들을 출력합니다.\n",
    "    print('오차 행렬')\n",
    "    print(confusion)\n",
    "    print('\\n정확도: {:.4f}, 정밀도: {:.4f}, 재현율: {:.4f}, F1: {:.4f}, ROC-AUC: {:.4f}'.format(accuracy, precision, recall, f1, roc_auc))"
   ]
  },
  {
   "cell_type": "code",
   "execution_count": 38,
   "id": "5ad485c7",
   "metadata": {},
   "outputs": [
    {
     "name": "stdout",
     "output_type": "stream",
     "text": [
      "<class 'pandas.core.frame.DataFrame'>\n",
      "RangeIndex: 39609 entries, 0 to 39608\n",
      "Data columns (total 23 columns):\n",
      " #   Column       Non-Null Count  Dtype \n",
      "---  ------       --------------  ----- \n",
      " 0   ID           39609 non-null  object\n",
      " 1   사고일시         39609 non-null  object\n",
      " 2   요일           39609 non-null  int64 \n",
      " 3   기상상태         39609 non-null  int32 \n",
      " 4   시군구          39609 non-null  int32 \n",
      " 5   도로형태         39609 non-null  object\n",
      " 6   노면상태         39609 non-null  object\n",
      " 7   사고유형         39609 non-null  object\n",
      " 8   사고유형 - 세부분류  39609 non-null  object\n",
      " 9   법규위반         39609 non-null  object\n",
      " 10  가해운전자 차종     39609 non-null  object\n",
      " 11  가해운전자 성별     39609 non-null  object\n",
      " 12  가해운전자 연령     39609 non-null  object\n",
      " 13  가해운전자 상해정도   39609 non-null  object\n",
      " 14  피해운전자 차종     38618 non-null  object\n",
      " 15  피해운전자 성별     38618 non-null  object\n",
      " 16  피해운전자 연령     38618 non-null  object\n",
      " 17  피해운전자 상해정도   38618 non-null  object\n",
      " 18  사망자수         39609 non-null  int64 \n",
      " 19  중상자수         39609 non-null  int64 \n",
      " 20  경상자수         39609 non-null  int64 \n",
      " 21  부상자수         39609 non-null  int64 \n",
      " 22  ECLO         39609 non-null  int64 \n",
      "dtypes: int32(2), int64(6), object(15)\n",
      "memory usage: 6.6+ MB\n"
     ]
    }
   ],
   "source": []
  },
  {
   "cell_type": "code",
   "execution_count": 18,
   "id": "2517f794",
   "metadata": {},
   "outputs": [
    {
     "ename": "ValueError",
     "evalue": "could not convert string to float: '2019-02-02 14'",
     "output_type": "error",
     "traceback": [
      "\u001b[1;31m---------------------------------------------------------------------------\u001b[0m",
      "\u001b[1;31mValueError\u001b[0m                                Traceback (most recent call last)",
      "Cell \u001b[1;32mIn[18], line 4\u001b[0m\n\u001b[0;32m      1\u001b[0m \u001b[38;5;28;01mfrom\u001b[39;00m \u001b[38;5;21;01msklearn\u001b[39;00m\u001b[38;5;21;01m.\u001b[39;00m\u001b[38;5;21;01mlinear_model\u001b[39;00m \u001b[38;5;28;01mimport\u001b[39;00m LogisticRegression\n\u001b[0;32m      3\u001b[0m lr_clf \u001b[38;5;241m=\u001b[39m LogisticRegression(max_iter\u001b[38;5;241m=\u001b[39m\u001b[38;5;241m1000\u001b[39m)\n\u001b[1;32m----> 4\u001b[0m lr_clf\u001b[38;5;241m.\u001b[39mfit(X_train, y_train)\n\u001b[0;32m      5\u001b[0m lr_pred \u001b[38;5;241m=\u001b[39m lr_clf\u001b[38;5;241m.\u001b[39mpredict(X_test)\n\u001b[0;32m      6\u001b[0m lr_pred_proba \u001b[38;5;241m=\u001b[39m lr_clf\u001b[38;5;241m.\u001b[39mpredict_proba(X_test)[:,\u001b[38;5;241m1\u001b[39m]\n",
      "File \u001b[1;32m~\\anaconda3\\Lib\\site-packages\\sklearn\\base.py:1351\u001b[0m, in \u001b[0;36m_fit_context.<locals>.decorator.<locals>.wrapper\u001b[1;34m(estimator, *args, **kwargs)\u001b[0m\n\u001b[0;32m   1344\u001b[0m     estimator\u001b[38;5;241m.\u001b[39m_validate_params()\n\u001b[0;32m   1346\u001b[0m \u001b[38;5;28;01mwith\u001b[39;00m config_context(\n\u001b[0;32m   1347\u001b[0m     skip_parameter_validation\u001b[38;5;241m=\u001b[39m(\n\u001b[0;32m   1348\u001b[0m         prefer_skip_nested_validation \u001b[38;5;129;01mor\u001b[39;00m global_skip_validation\n\u001b[0;32m   1349\u001b[0m     )\n\u001b[0;32m   1350\u001b[0m ):\n\u001b[1;32m-> 1351\u001b[0m     \u001b[38;5;28;01mreturn\u001b[39;00m fit_method(estimator, \u001b[38;5;241m*\u001b[39margs, \u001b[38;5;241m*\u001b[39m\u001b[38;5;241m*\u001b[39mkwargs)\n",
      "File \u001b[1;32m~\\anaconda3\\Lib\\site-packages\\sklearn\\linear_model\\_logistic.py:1201\u001b[0m, in \u001b[0;36mLogisticRegression.fit\u001b[1;34m(self, X, y, sample_weight)\u001b[0m\n\u001b[0;32m   1198\u001b[0m \u001b[38;5;28;01melse\u001b[39;00m:\n\u001b[0;32m   1199\u001b[0m     _dtype \u001b[38;5;241m=\u001b[39m [np\u001b[38;5;241m.\u001b[39mfloat64, np\u001b[38;5;241m.\u001b[39mfloat32]\n\u001b[1;32m-> 1201\u001b[0m X, y \u001b[38;5;241m=\u001b[39m \u001b[38;5;28mself\u001b[39m\u001b[38;5;241m.\u001b[39m_validate_data(\n\u001b[0;32m   1202\u001b[0m     X,\n\u001b[0;32m   1203\u001b[0m     y,\n\u001b[0;32m   1204\u001b[0m     accept_sparse\u001b[38;5;241m=\u001b[39m\u001b[38;5;124m\"\u001b[39m\u001b[38;5;124mcsr\u001b[39m\u001b[38;5;124m\"\u001b[39m,\n\u001b[0;32m   1205\u001b[0m     dtype\u001b[38;5;241m=\u001b[39m_dtype,\n\u001b[0;32m   1206\u001b[0m     order\u001b[38;5;241m=\u001b[39m\u001b[38;5;124m\"\u001b[39m\u001b[38;5;124mC\u001b[39m\u001b[38;5;124m\"\u001b[39m,\n\u001b[0;32m   1207\u001b[0m     accept_large_sparse\u001b[38;5;241m=\u001b[39msolver \u001b[38;5;129;01mnot\u001b[39;00m \u001b[38;5;129;01min\u001b[39;00m [\u001b[38;5;124m\"\u001b[39m\u001b[38;5;124mliblinear\u001b[39m\u001b[38;5;124m\"\u001b[39m, \u001b[38;5;124m\"\u001b[39m\u001b[38;5;124msag\u001b[39m\u001b[38;5;124m\"\u001b[39m, \u001b[38;5;124m\"\u001b[39m\u001b[38;5;124msaga\u001b[39m\u001b[38;5;124m\"\u001b[39m],\n\u001b[0;32m   1208\u001b[0m )\n\u001b[0;32m   1209\u001b[0m check_classification_targets(y)\n\u001b[0;32m   1210\u001b[0m \u001b[38;5;28mself\u001b[39m\u001b[38;5;241m.\u001b[39mclasses_ \u001b[38;5;241m=\u001b[39m np\u001b[38;5;241m.\u001b[39munique(y)\n",
      "File \u001b[1;32m~\\anaconda3\\Lib\\site-packages\\sklearn\\base.py:650\u001b[0m, in \u001b[0;36mBaseEstimator._validate_data\u001b[1;34m(self, X, y, reset, validate_separately, cast_to_ndarray, **check_params)\u001b[0m\n\u001b[0;32m    648\u001b[0m         y \u001b[38;5;241m=\u001b[39m check_array(y, input_name\u001b[38;5;241m=\u001b[39m\u001b[38;5;124m\"\u001b[39m\u001b[38;5;124my\u001b[39m\u001b[38;5;124m\"\u001b[39m, \u001b[38;5;241m*\u001b[39m\u001b[38;5;241m*\u001b[39mcheck_y_params)\n\u001b[0;32m    649\u001b[0m     \u001b[38;5;28;01melse\u001b[39;00m:\n\u001b[1;32m--> 650\u001b[0m         X, y \u001b[38;5;241m=\u001b[39m check_X_y(X, y, \u001b[38;5;241m*\u001b[39m\u001b[38;5;241m*\u001b[39mcheck_params)\n\u001b[0;32m    651\u001b[0m     out \u001b[38;5;241m=\u001b[39m X, y\n\u001b[0;32m    653\u001b[0m \u001b[38;5;28;01mif\u001b[39;00m \u001b[38;5;129;01mnot\u001b[39;00m no_val_X \u001b[38;5;129;01mand\u001b[39;00m check_params\u001b[38;5;241m.\u001b[39mget(\u001b[38;5;124m\"\u001b[39m\u001b[38;5;124mensure_2d\u001b[39m\u001b[38;5;124m\"\u001b[39m, \u001b[38;5;28;01mTrue\u001b[39;00m):\n",
      "File \u001b[1;32m~\\anaconda3\\Lib\\site-packages\\sklearn\\utils\\validation.py:1192\u001b[0m, in \u001b[0;36mcheck_X_y\u001b[1;34m(X, y, accept_sparse, accept_large_sparse, dtype, order, copy, force_all_finite, ensure_2d, allow_nd, multi_output, ensure_min_samples, ensure_min_features, y_numeric, estimator)\u001b[0m\n\u001b[0;32m   1187\u001b[0m         estimator_name \u001b[38;5;241m=\u001b[39m _check_estimator_name(estimator)\n\u001b[0;32m   1188\u001b[0m     \u001b[38;5;28;01mraise\u001b[39;00m \u001b[38;5;167;01mValueError\u001b[39;00m(\n\u001b[0;32m   1189\u001b[0m         \u001b[38;5;124mf\u001b[39m\u001b[38;5;124m\"\u001b[39m\u001b[38;5;132;01m{\u001b[39;00mestimator_name\u001b[38;5;132;01m}\u001b[39;00m\u001b[38;5;124m requires y to be passed, but the target y is None\u001b[39m\u001b[38;5;124m\"\u001b[39m\n\u001b[0;32m   1190\u001b[0m     )\n\u001b[1;32m-> 1192\u001b[0m X \u001b[38;5;241m=\u001b[39m check_array(\n\u001b[0;32m   1193\u001b[0m     X,\n\u001b[0;32m   1194\u001b[0m     accept_sparse\u001b[38;5;241m=\u001b[39maccept_sparse,\n\u001b[0;32m   1195\u001b[0m     accept_large_sparse\u001b[38;5;241m=\u001b[39maccept_large_sparse,\n\u001b[0;32m   1196\u001b[0m     dtype\u001b[38;5;241m=\u001b[39mdtype,\n\u001b[0;32m   1197\u001b[0m     order\u001b[38;5;241m=\u001b[39morder,\n\u001b[0;32m   1198\u001b[0m     copy\u001b[38;5;241m=\u001b[39mcopy,\n\u001b[0;32m   1199\u001b[0m     force_all_finite\u001b[38;5;241m=\u001b[39mforce_all_finite,\n\u001b[0;32m   1200\u001b[0m     ensure_2d\u001b[38;5;241m=\u001b[39mensure_2d,\n\u001b[0;32m   1201\u001b[0m     allow_nd\u001b[38;5;241m=\u001b[39mallow_nd,\n\u001b[0;32m   1202\u001b[0m     ensure_min_samples\u001b[38;5;241m=\u001b[39mensure_min_samples,\n\u001b[0;32m   1203\u001b[0m     ensure_min_features\u001b[38;5;241m=\u001b[39mensure_min_features,\n\u001b[0;32m   1204\u001b[0m     estimator\u001b[38;5;241m=\u001b[39mestimator,\n\u001b[0;32m   1205\u001b[0m     input_name\u001b[38;5;241m=\u001b[39m\u001b[38;5;124m\"\u001b[39m\u001b[38;5;124mX\u001b[39m\u001b[38;5;124m\"\u001b[39m,\n\u001b[0;32m   1206\u001b[0m )\n\u001b[0;32m   1208\u001b[0m y \u001b[38;5;241m=\u001b[39m _check_y(y, multi_output\u001b[38;5;241m=\u001b[39mmulti_output, y_numeric\u001b[38;5;241m=\u001b[39my_numeric, estimator\u001b[38;5;241m=\u001b[39mestimator)\n\u001b[0;32m   1210\u001b[0m check_consistent_length(X, y)\n",
      "File \u001b[1;32m~\\anaconda3\\Lib\\site-packages\\sklearn\\utils\\validation.py:951\u001b[0m, in \u001b[0;36mcheck_array\u001b[1;34m(array, accept_sparse, accept_large_sparse, dtype, order, copy, force_all_finite, ensure_2d, allow_nd, ensure_min_samples, ensure_min_features, estimator, input_name)\u001b[0m\n\u001b[0;32m    949\u001b[0m         array \u001b[38;5;241m=\u001b[39m xp\u001b[38;5;241m.\u001b[39mastype(array, dtype, copy\u001b[38;5;241m=\u001b[39m\u001b[38;5;28;01mFalse\u001b[39;00m)\n\u001b[0;32m    950\u001b[0m     \u001b[38;5;28;01melse\u001b[39;00m:\n\u001b[1;32m--> 951\u001b[0m         array \u001b[38;5;241m=\u001b[39m _asarray_with_order(array, order\u001b[38;5;241m=\u001b[39morder, dtype\u001b[38;5;241m=\u001b[39mdtype, xp\u001b[38;5;241m=\u001b[39mxp)\n\u001b[0;32m    952\u001b[0m \u001b[38;5;28;01mexcept\u001b[39;00m ComplexWarning \u001b[38;5;28;01mas\u001b[39;00m complex_warning:\n\u001b[0;32m    953\u001b[0m     \u001b[38;5;28;01mraise\u001b[39;00m \u001b[38;5;167;01mValueError\u001b[39;00m(\n\u001b[0;32m    954\u001b[0m         \u001b[38;5;124m\"\u001b[39m\u001b[38;5;124mComplex data not supported\u001b[39m\u001b[38;5;130;01m\\n\u001b[39;00m\u001b[38;5;132;01m{}\u001b[39;00m\u001b[38;5;130;01m\\n\u001b[39;00m\u001b[38;5;124m\"\u001b[39m\u001b[38;5;241m.\u001b[39mformat(array)\n\u001b[0;32m    955\u001b[0m     ) \u001b[38;5;28;01mfrom\u001b[39;00m \u001b[38;5;21;01mcomplex_warning\u001b[39;00m\n",
      "File \u001b[1;32m~\\anaconda3\\Lib\\site-packages\\sklearn\\utils\\_array_api.py:521\u001b[0m, in \u001b[0;36m_asarray_with_order\u001b[1;34m(array, dtype, order, copy, xp)\u001b[0m\n\u001b[0;32m    519\u001b[0m     array \u001b[38;5;241m=\u001b[39m numpy\u001b[38;5;241m.\u001b[39marray(array, order\u001b[38;5;241m=\u001b[39morder, dtype\u001b[38;5;241m=\u001b[39mdtype)\n\u001b[0;32m    520\u001b[0m \u001b[38;5;28;01melse\u001b[39;00m:\n\u001b[1;32m--> 521\u001b[0m     array \u001b[38;5;241m=\u001b[39m numpy\u001b[38;5;241m.\u001b[39masarray(array, order\u001b[38;5;241m=\u001b[39morder, dtype\u001b[38;5;241m=\u001b[39mdtype)\n\u001b[0;32m    523\u001b[0m \u001b[38;5;66;03m# At this point array is a NumPy ndarray. We convert it to an array\u001b[39;00m\n\u001b[0;32m    524\u001b[0m \u001b[38;5;66;03m# container that is consistent with the input's namespace.\u001b[39;00m\n\u001b[0;32m    525\u001b[0m \u001b[38;5;28;01mreturn\u001b[39;00m xp\u001b[38;5;241m.\u001b[39masarray(array)\n",
      "File \u001b[1;32m~\\anaconda3\\Lib\\site-packages\\pandas\\core\\generic.py:1998\u001b[0m, in \u001b[0;36mNDFrame.__array__\u001b[1;34m(self, dtype)\u001b[0m\n\u001b[0;32m   1996\u001b[0m \u001b[38;5;28;01mdef\u001b[39;00m \u001b[38;5;21m__array__\u001b[39m(\u001b[38;5;28mself\u001b[39m, dtype: npt\u001b[38;5;241m.\u001b[39mDTypeLike \u001b[38;5;241m|\u001b[39m \u001b[38;5;28;01mNone\u001b[39;00m \u001b[38;5;241m=\u001b[39m \u001b[38;5;28;01mNone\u001b[39;00m) \u001b[38;5;241m-\u001b[39m\u001b[38;5;241m>\u001b[39m np\u001b[38;5;241m.\u001b[39mndarray:\n\u001b[0;32m   1997\u001b[0m     values \u001b[38;5;241m=\u001b[39m \u001b[38;5;28mself\u001b[39m\u001b[38;5;241m.\u001b[39m_values\n\u001b[1;32m-> 1998\u001b[0m     arr \u001b[38;5;241m=\u001b[39m np\u001b[38;5;241m.\u001b[39masarray(values, dtype\u001b[38;5;241m=\u001b[39mdtype)\n\u001b[0;32m   1999\u001b[0m     \u001b[38;5;28;01mif\u001b[39;00m (\n\u001b[0;32m   2000\u001b[0m         astype_is_view(values\u001b[38;5;241m.\u001b[39mdtype, arr\u001b[38;5;241m.\u001b[39mdtype)\n\u001b[0;32m   2001\u001b[0m         \u001b[38;5;129;01mand\u001b[39;00m using_copy_on_write()\n\u001b[0;32m   2002\u001b[0m         \u001b[38;5;129;01mand\u001b[39;00m \u001b[38;5;28mself\u001b[39m\u001b[38;5;241m.\u001b[39m_mgr\u001b[38;5;241m.\u001b[39mis_single_block\n\u001b[0;32m   2003\u001b[0m     ):\n\u001b[0;32m   2004\u001b[0m         \u001b[38;5;66;03m# Check if both conversions can be done without a copy\u001b[39;00m\n\u001b[0;32m   2005\u001b[0m         \u001b[38;5;28;01mif\u001b[39;00m astype_is_view(\u001b[38;5;28mself\u001b[39m\u001b[38;5;241m.\u001b[39mdtypes\u001b[38;5;241m.\u001b[39miloc[\u001b[38;5;241m0\u001b[39m], values\u001b[38;5;241m.\u001b[39mdtype) \u001b[38;5;129;01mand\u001b[39;00m astype_is_view(\n\u001b[0;32m   2006\u001b[0m             values\u001b[38;5;241m.\u001b[39mdtype, arr\u001b[38;5;241m.\u001b[39mdtype\n\u001b[0;32m   2007\u001b[0m         ):\n",
      "\u001b[1;31mValueError\u001b[0m: could not convert string to float: '2019-02-02 14'"
     ]
    }
   ],
   "source": [
    "from sklearn.linear_model import LogisticRegression\n",
    "\n",
    "lr_clf = LogisticRegression(max_iter=1000)\n",
    "lr_clf.fit(X_train, y_train)\n",
    "lr_pred = lr_clf.predict(X_test)\n",
    "lr_pred_proba = lr_clf.predict_proba(X_test)[:,1]\n",
    "\n",
    "get_clf_eval(y_test, lr_pred, lr_pred_proba)"
   ]
  },
  {
   "cell_type": "code",
   "execution_count": 19,
   "id": "79878733",
   "metadata": {},
   "outputs": [
    {
     "name": "stdout",
     "output_type": "stream",
     "text": [
      "요일\n",
      "금요일    6179\n",
      "화요일    6023\n",
      "수요일    5969\n",
      "월요일    5895\n",
      "목요일    5759\n",
      "토요일    5670\n",
      "일요일    4114\n",
      "Name: count, dtype: int64\n"
     ]
    }
   ],
   "source": [
    "print(ECLO_data['요일'].value_counts())"
   ]
  },
  {
   "cell_type": "code",
   "execution_count": 20,
   "id": "4bde1e19",
   "metadata": {},
   "outputs": [],
   "source": [
    "ECLO_data['요일'].replace('월요일',0,inplace=True)\n",
    "ECLO_data['요일'].replace('화요일',1,inplace=True)\n",
    "ECLO_data['요일'].replace('수요일',2,inplace=True)\n",
    "ECLO_data['요일'].replace('목요일',3,inplace=True)\n",
    "ECLO_data['요일'].replace('금요일',4,inplace=True)\n",
    "ECLO_data['요일'].replace('토요일',5,inplace=True)\n",
    "ECLO_data['요일'].replace('일요일',6,inplace=True)"
   ]
  },
  {
   "cell_type": "code",
   "execution_count": 23,
   "id": "6eb3ce3d",
   "metadata": {},
   "outputs": [
    {
     "name": "stdout",
     "output_type": "stream",
     "text": [
      "요일\n",
      "4    6179\n",
      "1    6023\n",
      "2    5969\n",
      "0    5895\n",
      "3    5759\n",
      "5    5670\n",
      "6    4114\n",
      "Name: count, dtype: int64\n"
     ]
    }
   ],
   "source": [
    "print(ECLO_data['요일'].value_counts())"
   ]
  },
  {
   "cell_type": "code",
   "execution_count": 25,
   "id": "04023287",
   "metadata": {},
   "outputs": [],
   "source": [
    "from sklearn import preprocessing\n",
    "le = preprocessing.LabelEncoder()"
   ]
  },
  {
   "cell_type": "code",
   "execution_count": 24,
   "id": "2150719a",
   "metadata": {},
   "outputs": [
    {
     "name": "stdout",
     "output_type": "stream",
     "text": [
      "기상상태\n",
      "맑음    36181\n",
      "비      2627\n",
      "흐림      729\n",
      "기타       56\n",
      "안개        8\n",
      "눈         8\n",
      "Name: count, dtype: int64\n"
     ]
    }
   ],
   "source": [
    "print(ECLO_data['기상상태'].value_counts())"
   ]
  },
  {
   "cell_type": "code",
   "execution_count": 28,
   "id": "bd8541d8",
   "metadata": {},
   "outputs": [
    {
     "data": {
      "text/plain": [
       "array([2, 5, 0, 3, 4, 1])"
      ]
     },
     "execution_count": 28,
     "metadata": {},
     "output_type": "execute_result"
    }
   ],
   "source": [
    "le.fit_transform(ECLO_data['기상상태'])\n",
    "le.fit_transform(ECLO_data['기상상태'].unique())"
   ]
  },
  {
   "cell_type": "code",
   "execution_count": 30,
   "id": "901b1c9a",
   "metadata": {},
   "outputs": [],
   "source": [
    "ECLO_data['기상상태'] = le.fit_transform(ECLO_data['기상상태'])"
   ]
  },
  {
   "cell_type": "code",
   "execution_count": 31,
   "id": "c058edcc",
   "metadata": {},
   "outputs": [
    {
     "name": "stdout",
     "output_type": "stream",
     "text": [
      "기상상태\n",
      "2    36181\n",
      "3     2627\n",
      "5      729\n",
      "0       56\n",
      "4        8\n",
      "1        8\n",
      "Name: count, dtype: int64\n"
     ]
    }
   ],
   "source": [
    "print(ECLO_data['기상상태'].value_counts())"
   ]
  },
  {
   "cell_type": "code",
   "execution_count": 32,
   "id": "cbab8bbe",
   "metadata": {},
   "outputs": [
    {
     "data": {
      "text/plain": [
       "시군구\n",
       "대구광역시 남구 대명동      1749\n",
       "대구광역시 수성구 범어동     1173\n",
       "대구광역시 달서구 상인동     1143\n",
       "대구광역시 서구 비산동       968\n",
       "대구광역시 서구 내당동       938\n",
       "                  ... \n",
       "대구광역시 중구 도원동         2\n",
       "대구광역시 동구 신용동         2\n",
       "대구광역시 중구 동성로1가       2\n",
       "대구광역시 북구 도남동         2\n",
       "대구광역시 동구 평광동         1\n",
       "Name: count, Length: 199, dtype: int64"
      ]
     },
     "execution_count": 32,
     "metadata": {},
     "output_type": "execute_result"
    }
   ],
   "source": [
    "ECLO_data['시군구'].value_counts()"
   ]
  },
  {
   "cell_type": "code",
   "execution_count": 33,
   "id": "68a9e10c",
   "metadata": {},
   "outputs": [],
   "source": [
    "ECLO_data['시군구'] = le.fit_transform(ECLO_data['시군구'])"
   ]
  },
  {
   "cell_type": "code",
   "execution_count": 34,
   "id": "8ecc1ec6",
   "metadata": {},
   "outputs": [
    {
     "data": {
      "text/plain": [
       "시군구\n",
       "0      1749\n",
       "128    1173\n",
       "11     1143\n",
       "112     968\n",
       "111     938\n",
       "       ... \n",
       "158       2\n",
       "66        2\n",
       "161       2\n",
       "93        2\n",
       "78        1\n",
       "Name: count, Length: 199, dtype: int64"
      ]
     },
     "execution_count": 34,
     "metadata": {},
     "output_type": "execute_result"
    }
   ],
   "source": [
    "ECLO_data['시군구'].value_counts()"
   ]
  },
  {
   "cell_type": "code",
   "execution_count": null,
   "id": "97da98ad",
   "metadata": {},
   "outputs": [],
   "source": [
    "ECLO_data['시군구'] = le.fit_transform(ECLO_data['시군구'])"
   ]
  }
 ],
 "metadata": {
  "kernelspec": {
   "display_name": "Python 3 (ipykernel)",
   "language": "python",
   "name": "python3"
  },
  "language_info": {
   "codemirror_mode": {
    "name": "ipython",
    "version": 3
   },
   "file_extension": ".py",
   "mimetype": "text/x-python",
   "name": "python",
   "nbconvert_exporter": "python",
   "pygments_lexer": "ipython3",
   "version": "3.11.5"
  }
 },
 "nbformat": 4,
 "nbformat_minor": 5
}
