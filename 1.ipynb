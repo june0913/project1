{
 "cells": [
  {
   "cell_type": "code",
   "execution_count": 170,
   "id": "7fd5db3d",
   "metadata": {},
   "outputs": [],
   "source": [
    "import pandas as pd\n",
    "\n",
    "ECLO_df = pd.read_csv('train.csv')"
   ]
  },
  {
   "cell_type": "code",
   "execution_count": 171,
   "id": "8a6f20f1",
   "metadata": {},
   "outputs": [
    {
     "data": {
      "text/html": [
       "<div>\n",
       "<style scoped>\n",
       "    .dataframe tbody tr th:only-of-type {\n",
       "        vertical-align: middle;\n",
       "    }\n",
       "\n",
       "    .dataframe tbody tr th {\n",
       "        vertical-align: top;\n",
       "    }\n",
       "\n",
       "    .dataframe thead th {\n",
       "        text-align: right;\n",
       "    }\n",
       "</style>\n",
       "<table border=\"1\" class=\"dataframe\">\n",
       "  <thead>\n",
       "    <tr style=\"text-align: right;\">\n",
       "      <th></th>\n",
       "      <th>ID</th>\n",
       "      <th>사고일시</th>\n",
       "      <th>요일</th>\n",
       "      <th>기상상태</th>\n",
       "      <th>시군구</th>\n",
       "      <th>도로형태</th>\n",
       "      <th>노면상태</th>\n",
       "      <th>사고유형</th>\n",
       "      <th>사고유형 - 세부분류</th>\n",
       "      <th>법규위반</th>\n",
       "      <th>...</th>\n",
       "      <th>가해운전자 상해정도</th>\n",
       "      <th>피해운전자 차종</th>\n",
       "      <th>피해운전자 성별</th>\n",
       "      <th>피해운전자 연령</th>\n",
       "      <th>피해운전자 상해정도</th>\n",
       "      <th>사망자수</th>\n",
       "      <th>중상자수</th>\n",
       "      <th>경상자수</th>\n",
       "      <th>부상자수</th>\n",
       "      <th>ECLO</th>\n",
       "    </tr>\n",
       "  </thead>\n",
       "  <tbody>\n",
       "    <tr>\n",
       "      <th>0</th>\n",
       "      <td>ACCIDENT_00000</td>\n",
       "      <td>2019-01-01 00</td>\n",
       "      <td>화요일</td>\n",
       "      <td>맑음</td>\n",
       "      <td>대구광역시 중구 대신동</td>\n",
       "      <td>단일로 - 기타</td>\n",
       "      <td>건조</td>\n",
       "      <td>차대사람</td>\n",
       "      <td>길가장자리구역통행중</td>\n",
       "      <td>안전운전불이행</td>\n",
       "      <td>...</td>\n",
       "      <td>상해없음</td>\n",
       "      <td>보행자</td>\n",
       "      <td>여</td>\n",
       "      <td>70세</td>\n",
       "      <td>중상</td>\n",
       "      <td>0</td>\n",
       "      <td>1</td>\n",
       "      <td>0</td>\n",
       "      <td>0</td>\n",
       "      <td>5</td>\n",
       "    </tr>\n",
       "    <tr>\n",
       "      <th>1</th>\n",
       "      <td>ACCIDENT_00001</td>\n",
       "      <td>2019-01-01 00</td>\n",
       "      <td>화요일</td>\n",
       "      <td>흐림</td>\n",
       "      <td>대구광역시 달서구 감삼동</td>\n",
       "      <td>단일로 - 기타</td>\n",
       "      <td>건조</td>\n",
       "      <td>차대사람</td>\n",
       "      <td>보도통행중</td>\n",
       "      <td>기타</td>\n",
       "      <td>...</td>\n",
       "      <td>상해없음</td>\n",
       "      <td>보행자</td>\n",
       "      <td>남</td>\n",
       "      <td>61세</td>\n",
       "      <td>경상</td>\n",
       "      <td>0</td>\n",
       "      <td>0</td>\n",
       "      <td>1</td>\n",
       "      <td>0</td>\n",
       "      <td>3</td>\n",
       "    </tr>\n",
       "    <tr>\n",
       "      <th>2</th>\n",
       "      <td>ACCIDENT_00002</td>\n",
       "      <td>2019-01-01 01</td>\n",
       "      <td>화요일</td>\n",
       "      <td>맑음</td>\n",
       "      <td>대구광역시 수성구 두산동</td>\n",
       "      <td>단일로 - 기타</td>\n",
       "      <td>건조</td>\n",
       "      <td>차대사람</td>\n",
       "      <td>차도통행중</td>\n",
       "      <td>안전운전불이행</td>\n",
       "      <td>...</td>\n",
       "      <td>상해없음</td>\n",
       "      <td>보행자</td>\n",
       "      <td>남</td>\n",
       "      <td>38세</td>\n",
       "      <td>경상</td>\n",
       "      <td>0</td>\n",
       "      <td>0</td>\n",
       "      <td>1</td>\n",
       "      <td>0</td>\n",
       "      <td>3</td>\n",
       "    </tr>\n",
       "    <tr>\n",
       "      <th>3</th>\n",
       "      <td>ACCIDENT_00003</td>\n",
       "      <td>2019-01-01 02</td>\n",
       "      <td>화요일</td>\n",
       "      <td>맑음</td>\n",
       "      <td>대구광역시 북구 복현동</td>\n",
       "      <td>단일로 - 기타</td>\n",
       "      <td>건조</td>\n",
       "      <td>차대차</td>\n",
       "      <td>추돌</td>\n",
       "      <td>안전운전불이행</td>\n",
       "      <td>...</td>\n",
       "      <td>상해없음</td>\n",
       "      <td>승용</td>\n",
       "      <td>남</td>\n",
       "      <td>36세</td>\n",
       "      <td>중상</td>\n",
       "      <td>0</td>\n",
       "      <td>1</td>\n",
       "      <td>0</td>\n",
       "      <td>0</td>\n",
       "      <td>5</td>\n",
       "    </tr>\n",
       "    <tr>\n",
       "      <th>4</th>\n",
       "      <td>ACCIDENT_00004</td>\n",
       "      <td>2019-01-01 04</td>\n",
       "      <td>화요일</td>\n",
       "      <td>맑음</td>\n",
       "      <td>대구광역시 동구 신암동</td>\n",
       "      <td>단일로 - 기타</td>\n",
       "      <td>건조</td>\n",
       "      <td>차대차</td>\n",
       "      <td>추돌</td>\n",
       "      <td>안전운전불이행</td>\n",
       "      <td>...</td>\n",
       "      <td>상해없음</td>\n",
       "      <td>승용</td>\n",
       "      <td>남</td>\n",
       "      <td>52세</td>\n",
       "      <td>경상</td>\n",
       "      <td>0</td>\n",
       "      <td>0</td>\n",
       "      <td>1</td>\n",
       "      <td>0</td>\n",
       "      <td>3</td>\n",
       "    </tr>\n",
       "  </tbody>\n",
       "</table>\n",
       "<p>5 rows × 23 columns</p>\n",
       "</div>"
      ],
      "text/plain": [
       "               ID           사고일시   요일 기상상태            시군구      도로형태 노면상태  \\\n",
       "0  ACCIDENT_00000  2019-01-01 00  화요일   맑음   대구광역시 중구 대신동  단일로 - 기타   건조   \n",
       "1  ACCIDENT_00001  2019-01-01 00  화요일   흐림  대구광역시 달서구 감삼동  단일로 - 기타   건조   \n",
       "2  ACCIDENT_00002  2019-01-01 01  화요일   맑음  대구광역시 수성구 두산동  단일로 - 기타   건조   \n",
       "3  ACCIDENT_00003  2019-01-01 02  화요일   맑음   대구광역시 북구 복현동  단일로 - 기타   건조   \n",
       "4  ACCIDENT_00004  2019-01-01 04  화요일   맑음   대구광역시 동구 신암동  단일로 - 기타   건조   \n",
       "\n",
       "   사고유형 사고유형 - 세부분류     법규위반  ... 가해운전자 상해정도 피해운전자 차종 피해운전자 성별 피해운전자 연령  \\\n",
       "0  차대사람  길가장자리구역통행중  안전운전불이행  ...       상해없음      보행자        여      70세   \n",
       "1  차대사람       보도통행중       기타  ...       상해없음      보행자        남      61세   \n",
       "2  차대사람       차도통행중  안전운전불이행  ...       상해없음      보행자        남      38세   \n",
       "3   차대차          추돌  안전운전불이행  ...       상해없음       승용        남      36세   \n",
       "4   차대차          추돌  안전운전불이행  ...       상해없음       승용        남      52세   \n",
       "\n",
       "  피해운전자 상해정도 사망자수 중상자수 경상자수  부상자수  ECLO  \n",
       "0         중상    0    1    0     0     5  \n",
       "1         경상    0    0    1     0     3  \n",
       "2         경상    0    0    1     0     3  \n",
       "3         중상    0    1    0     0     5  \n",
       "4         경상    0    0    1     0     3  \n",
       "\n",
       "[5 rows x 23 columns]"
      ]
     },
     "execution_count": 171,
     "metadata": {},
     "output_type": "execute_result"
    }
   ],
   "source": [
    "ECLO_df.head()"
   ]
  },
  {
   "cell_type": "code",
   "execution_count": 172,
   "id": "f2203273",
   "metadata": {},
   "outputs": [
    {
     "name": "stdout",
     "output_type": "stream",
     "text": [
      "<class 'pandas.core.frame.DataFrame'>\n",
      "RangeIndex: 39609 entries, 0 to 39608\n",
      "Data columns (total 23 columns):\n",
      " #   Column       Non-Null Count  Dtype \n",
      "---  ------       --------------  ----- \n",
      " 0   ID           39609 non-null  object\n",
      " 1   사고일시         39609 non-null  object\n",
      " 2   요일           39609 non-null  object\n",
      " 3   기상상태         39609 non-null  object\n",
      " 4   시군구          39609 non-null  object\n",
      " 5   도로형태         39609 non-null  object\n",
      " 6   노면상태         39609 non-null  object\n",
      " 7   사고유형         39609 non-null  object\n",
      " 8   사고유형 - 세부분류  39609 non-null  object\n",
      " 9   법규위반         39609 non-null  object\n",
      " 10  가해운전자 차종     39609 non-null  object\n",
      " 11  가해운전자 성별     39609 non-null  object\n",
      " 12  가해운전자 연령     39609 non-null  object\n",
      " 13  가해운전자 상해정도   39609 non-null  object\n",
      " 14  피해운전자 차종     38618 non-null  object\n",
      " 15  피해운전자 성별     38618 non-null  object\n",
      " 16  피해운전자 연령     38618 non-null  object\n",
      " 17  피해운전자 상해정도   38618 non-null  object\n",
      " 18  사망자수         39609 non-null  int64 \n",
      " 19  중상자수         39609 non-null  int64 \n",
      " 20  경상자수         39609 non-null  int64 \n",
      " 21  부상자수         39609 non-null  int64 \n",
      " 22  ECLO         39609 non-null  int64 \n",
      "dtypes: int64(5), object(18)\n",
      "memory usage: 7.0+ MB\n"
     ]
    }
   ],
   "source": [
    "ECLO_df.info()"
   ]
  },
  {
   "cell_type": "code",
   "execution_count": 173,
   "id": "daff17f5",
   "metadata": {},
   "outputs": [
    {
     "name": "stdout",
     "output_type": "stream",
     "text": [
      "ECLO\n",
      "3     18675\n",
      "5      6743\n",
      "6      4967\n",
      "1      2578\n",
      "9      1528\n",
      "8      1152\n",
      "4       818\n",
      "10      611\n",
      "12      611\n",
      "11      394\n",
      "15      283\n",
      "7       263\n",
      "13      194\n",
      "2       150\n",
      "14      145\n",
      "16      101\n",
      "18       89\n",
      "17       78\n",
      "20       39\n",
      "19       36\n",
      "21       33\n",
      "24       18\n",
      "23       17\n",
      "22       17\n",
      "26       12\n",
      "27       11\n",
      "25        7\n",
      "28        6\n",
      "30        5\n",
      "31        4\n",
      "34        3\n",
      "32        3\n",
      "37        3\n",
      "33        2\n",
      "35        2\n",
      "36        1\n",
      "40        1\n",
      "65        1\n",
      "56        1\n",
      "47        1\n",
      "57        1\n",
      "45        1\n",
      "52        1\n",
      "74        1\n",
      "39        1\n",
      "66        1\n",
      "Name: count, dtype: int64\n"
     ]
    }
   ],
   "source": [
    "print(ECLO_df['ECLO'].value_counts())"
   ]
  },
  {
   "cell_type": "code",
   "execution_count": 174,
   "id": "eeb63cdd",
   "metadata": {},
   "outputs": [],
   "source": [
    "from sklearn.model_selection import train_test_split\n",
    "\n",
    "# ID, 가해운전자 차종, 가해운전자 성별, 피해운전자 차종, 피해운전자 성별, 삭제\n",
    "def get_preprocessed_df(df=None):\n",
    "    df_copy = df.copy()\n",
    "    df_copy.drop(['ID','가해운전자 차종', '가해운전자 성별', '가해운전자 상해정도','피해운전자 차종', '피해운전자 성별','피해운전자 연령', '피해운전자 상해정도','사망자수','중상자수','경상자수','부상자수'], axis=1, inplace = True)\n",
    "    return df_copy"
   ]
  },
  {
   "cell_type": "code",
   "execution_count": 175,
   "id": "ca498067",
   "metadata": {},
   "outputs": [],
   "source": [
    "def get_train_test_dataset(df=None):\n",
    "    df_copy = get_preprocessed_df(df)\n",
    "    X_features = df_copy.iloc[:, :-1]\n",
    "    y_target=df_copy.iloc[:, -1]\n",
    "    \n",
    "    X_train, X_test, y_train, y_test =\\\n",
    "    train_test_split(X_features, y_target, test_size=0.2, random_state=0)\n",
    "    return X_train, X_test, y_train, y_test\n",
    "\n",
    "X_train, X_test, y_train, y_test = get_train_test_dataset(ECLO_data)"
   ]
  },
  {
   "cell_type": "code",
   "execution_count": 176,
   "id": "fb6f1e06",
   "metadata": {},
   "outputs": [],
   "source": [
    "from sklearn.metrics import accuracy_score, precision_score, recall_score, f1_score, roc_auc_score, confusion_matrix\n",
    "\n",
    "def get_clf_eval(y_test, pred, pred_proba):\n",
    "    # 오차 행렬, 정확도, 정밀도, 재현율, F1 스코어, ROC-AUC를 출력하는 함수\n",
    "# 오차 행렬을 계산합니다. \n",
    "# 오차 행렬은 실제 레이블과 예측 레이블을 비교하여 True Positives, False Positives,\n",
    "# True Negatives, False Negatives의 수를 표시합니다.\n",
    "    confusion = confusion_matrix(y_test, pred)\n",
    "\n",
    "# 정확도를 계산합니다.\n",
    "# 정확도는 전체 데이터 중에서 올바르게 예측된 데이터의 비율입니다.\n",
    "    accuracy = accuracy_score(y_test, pred)\n",
    "\n",
    "# 정밀도를 계산합니다.\n",
    "# 정밀도는 양성으로 예측된 데이터 중 실제로 양성인 데이터의 비율입니다.\n",
    "    precision = precision_score(y_test, pred)\n",
    "\n",
    "# 재현율을 계산합니다.\n",
    "# 재현율(민감도)는 실제 양성 데이터 중 모델이 양성으로 예측한 데이터의 비율입니다.\n",
    "    recall = recall_score(y_test, pred)\n",
    "\n",
    "# F1 스코어를 계산합니다.\n",
    "# F1 스코어는 정밀도와 재현율의 조화 평균이며, 두 지표의 균형을 나타냅니다.\n",
    "    f1 = f1_score(y_test, pred)\n",
    "\n",
    "# ROC-AUC 스코어를 계산합니다.\n",
    "# ROC-AUC는 모델의 수신자 조작 특성 곡선(ROC) 아래의 면적을 측정하며,\n",
    "# 1에 가까울수록 좋은 성능을 나타냅니다.\n",
    "    roc_auc = roc_auc_score(y_test, pred_proba)\n",
    "\n",
    "# 계산된 성능 지표들을 출력합니다.\n",
    "    print('오차 행렬')\n",
    "    print(confusion)\n",
    "    print('\\n정확도: {:.4f}, 정밀도: {:.4f}, 재현율: {:.4f}, F1: {:.4f}, ROC-AUC: {:.4f}'.format(accuracy, precision, recall, f1, roc_auc))"
   ]
  },
  {
   "cell_type": "code",
   "execution_count": 177,
   "id": "04023287",
   "metadata": {},
   "outputs": [],
   "source": [
    "from sklearn import preprocessing\n",
    "le = preprocessing.LabelEncoder()"
   ]
  },
  {
   "cell_type": "code",
   "execution_count": 178,
   "id": "79878733",
   "metadata": {},
   "outputs": [
    {
     "name": "stdout",
     "output_type": "stream",
     "text": [
      "요일\n",
      "금요일    6179\n",
      "화요일    6023\n",
      "수요일    5969\n",
      "월요일    5895\n",
      "목요일    5759\n",
      "토요일    5670\n",
      "일요일    4114\n",
      "Name: count, dtype: int64\n"
     ]
    }
   ],
   "source": [
    "print(ECLO_df['요일'].value_counts())"
   ]
  },
  {
   "cell_type": "code",
   "execution_count": 179,
   "id": "4bde1e19",
   "metadata": {},
   "outputs": [],
   "source": [
    "ECLO_df['요일'] = le.fit_transform(ECLO_df['요일'])"
   ]
  },
  {
   "cell_type": "code",
   "execution_count": 180,
   "id": "6eb3ce3d",
   "metadata": {},
   "outputs": [
    {
     "name": "stdout",
     "output_type": "stream",
     "text": [
      "요일\n",
      "0    6179\n",
      "6    6023\n",
      "2    5969\n",
      "3    5895\n",
      "1    5759\n",
      "5    5670\n",
      "4    4114\n",
      "Name: count, dtype: int64\n"
     ]
    }
   ],
   "source": [
    "print(ECLO_df['요일'].value_counts())"
   ]
  },
  {
   "cell_type": "code",
   "execution_count": 181,
   "id": "ba51db73",
   "metadata": {},
   "outputs": [
    {
     "data": {
      "text/plain": [
       "0         1\n",
       "1         1\n",
       "2         1\n",
       "3         1\n",
       "4         1\n",
       "         ..\n",
       "39604    12\n",
       "39605    12\n",
       "39606    12\n",
       "39607    12\n",
       "39608    12\n",
       "Name: 사고일시, Length: 39609, dtype: int32"
      ]
     },
     "execution_count": 181,
     "metadata": {},
     "output_type": "execute_result"
    }
   ],
   "source": [
    "ECLO_df['사고일시'] = pd.to_datetime(ECLO_df['사고일시'])\n",
    "ECLO_df['사고일시'] = ECLO_df['사고일시'].dt.month\n",
    "ECLO_df['사고일시']"
   ]
  },
  {
   "cell_type": "code",
   "execution_count": 182,
   "id": "2150719a",
   "metadata": {},
   "outputs": [
    {
     "name": "stdout",
     "output_type": "stream",
     "text": [
      "기상상태\n",
      "맑음    36181\n",
      "비      2627\n",
      "흐림      729\n",
      "기타       56\n",
      "안개        8\n",
      "눈         8\n",
      "Name: count, dtype: int64\n"
     ]
    }
   ],
   "source": [
    "print(ECLO_df['기상상태'].value_counts())"
   ]
  },
  {
   "cell_type": "code",
   "execution_count": 183,
   "id": "bd8541d8",
   "metadata": {},
   "outputs": [
    {
     "data": {
      "text/plain": [
       "array([2, 5, 0, 3, 4, 1])"
      ]
     },
     "execution_count": 183,
     "metadata": {},
     "output_type": "execute_result"
    }
   ],
   "source": [
    "le.fit_transform(ECLO_df['기상상태'])\n",
    "le.fit_transform(ECLO_df['기상상태'].unique())"
   ]
  },
  {
   "cell_type": "code",
   "execution_count": 184,
   "id": "901b1c9a",
   "metadata": {},
   "outputs": [],
   "source": [
    "ECLO_df['기상상태'] = le.fit_transform(ECLO_df['기상상태'])"
   ]
  },
  {
   "cell_type": "code",
   "execution_count": 185,
   "id": "c058edcc",
   "metadata": {},
   "outputs": [
    {
     "name": "stdout",
     "output_type": "stream",
     "text": [
      "기상상태\n",
      "2    36181\n",
      "3     2627\n",
      "5      729\n",
      "0       56\n",
      "4        8\n",
      "1        8\n",
      "Name: count, dtype: int64\n"
     ]
    }
   ],
   "source": [
    "print(ECLO_df['기상상태'].value_counts())"
   ]
  },
  {
   "cell_type": "code",
   "execution_count": 186,
   "id": "cbab8bbe",
   "metadata": {},
   "outputs": [
    {
     "data": {
      "text/plain": [
       "시군구\n",
       "대구광역시 남구 대명동      1749\n",
       "대구광역시 수성구 범어동     1173\n",
       "대구광역시 달서구 상인동     1143\n",
       "대구광역시 서구 비산동       968\n",
       "대구광역시 서구 내당동       938\n",
       "                  ... \n",
       "대구광역시 중구 도원동         2\n",
       "대구광역시 동구 신용동         2\n",
       "대구광역시 중구 동성로1가       2\n",
       "대구광역시 북구 도남동         2\n",
       "대구광역시 동구 평광동         1\n",
       "Name: count, Length: 199, dtype: int64"
      ]
     },
     "execution_count": 186,
     "metadata": {},
     "output_type": "execute_result"
    }
   ],
   "source": [
    "ECLO_df['시군구'].value_counts()"
   ]
  },
  {
   "cell_type": "code",
   "execution_count": 187,
   "id": "68a9e10c",
   "metadata": {},
   "outputs": [],
   "source": [
    "ECLO_df['시군구'] = le.fit_transform(ECLO_df['시군구'])"
   ]
  },
  {
   "cell_type": "code",
   "execution_count": 188,
   "id": "8ecc1ec6",
   "metadata": {},
   "outputs": [
    {
     "data": {
      "text/plain": [
       "시군구\n",
       "0      1749\n",
       "128    1173\n",
       "11     1143\n",
       "112     968\n",
       "111     938\n",
       "       ... \n",
       "158       2\n",
       "66        2\n",
       "161       2\n",
       "93        2\n",
       "78        1\n",
       "Name: count, Length: 199, dtype: int64"
      ]
     },
     "execution_count": 188,
     "metadata": {},
     "output_type": "execute_result"
    }
   ],
   "source": [
    "ECLO_df['시군구'].value_counts()"
   ]
  },
  {
   "cell_type": "code",
   "execution_count": 189,
   "id": "97da98ad",
   "metadata": {},
   "outputs": [
    {
     "data": {
      "text/plain": [
       "도로형태\n",
       "단일로 - 기타           19485\n",
       "교차로 - 교차로안          9931\n",
       "교차로 - 교차로부근         5746\n",
       "기타 - 기타             1986\n",
       "교차로 - 교차로횡단보도내      1474\n",
       "단일로 - 지하차도(도로)내      309\n",
       "주차장 - 주차장            236\n",
       "단일로 - 교량             232\n",
       "단일로 - 고가도로위          138\n",
       "단일로 - 터널              64\n",
       "미분류 - 미분류              8\n",
       "Name: count, dtype: int64"
      ]
     },
     "execution_count": 189,
     "metadata": {},
     "output_type": "execute_result"
    }
   ],
   "source": [
    "ECLO_df['도로형태'].value_counts()"
   ]
  },
  {
   "cell_type": "code",
   "execution_count": 190,
   "id": "f9700b0c",
   "metadata": {},
   "outputs": [],
   "source": [
    "ECLO_df['도로형태'] = le.fit_transform(ECLO_df['도로형태'])"
   ]
  },
  {
   "cell_type": "code",
   "execution_count": 191,
   "id": "8a98f163",
   "metadata": {},
   "outputs": [
    {
     "data": {
      "text/plain": [
       "도로형태\n",
       "6     19485\n",
       "1      9931\n",
       "0      5746\n",
       "3      1986\n",
       "2      1474\n",
       "7       309\n",
       "10      236\n",
       "5       232\n",
       "4       138\n",
       "8        64\n",
       "9         8\n",
       "Name: count, dtype: int64"
      ]
     },
     "execution_count": 191,
     "metadata": {},
     "output_type": "execute_result"
    }
   ],
   "source": [
    "ECLO_df['도로형태'].value_counts()"
   ]
  },
  {
   "cell_type": "code",
   "execution_count": 192,
   "id": "905a4f0b",
   "metadata": {},
   "outputs": [
    {
     "data": {
      "text/plain": [
       "노면상태\n",
       "건조       36420\n",
       "젖음/습기     3100\n",
       "기타          58\n",
       "서리/결빙       25\n",
       "침수           3\n",
       "적설           3\n",
       "Name: count, dtype: int64"
      ]
     },
     "execution_count": 192,
     "metadata": {},
     "output_type": "execute_result"
    }
   ],
   "source": [
    "ECLO_df['노면상태'].value_counts()"
   ]
  },
  {
   "cell_type": "code",
   "execution_count": 193,
   "id": "511fb4dd",
   "metadata": {},
   "outputs": [],
   "source": [
    "ECLO_df['노면상태'] = le.fit_transform(ECLO_df['노면상태'])"
   ]
  },
  {
   "cell_type": "code",
   "execution_count": 194,
   "id": "f165f8ea",
   "metadata": {},
   "outputs": [
    {
     "data": {
      "text/plain": [
       "노면상태\n",
       "0    36420\n",
       "4     3100\n",
       "1       58\n",
       "2       25\n",
       "5        3\n",
       "3        3\n",
       "Name: count, dtype: int64"
      ]
     },
     "execution_count": 194,
     "metadata": {},
     "output_type": "execute_result"
    }
   ],
   "source": [
    "ECLO_df['노면상태'].value_counts()"
   ]
  },
  {
   "cell_type": "code",
   "execution_count": 195,
   "id": "46f7005c",
   "metadata": {},
   "outputs": [
    {
     "data": {
      "text/plain": [
       "사고유형\n",
       "차대차     31785\n",
       "차대사람     6833\n",
       "차량단독      991\n",
       "Name: count, dtype: int64"
      ]
     },
     "execution_count": 195,
     "metadata": {},
     "output_type": "execute_result"
    }
   ],
   "source": [
    "ECLO_df['사고유형'].value_counts()"
   ]
  },
  {
   "cell_type": "code",
   "execution_count": 196,
   "id": "90752361",
   "metadata": {},
   "outputs": [],
   "source": [
    "ECLO_df['사고유형'] = le.fit_transform(ECLO_df['사고유형'])"
   ]
  },
  {
   "cell_type": "code",
   "execution_count": 197,
   "id": "456ad1eb",
   "metadata": {},
   "outputs": [
    {
     "data": {
      "text/plain": [
       "사고유형\n",
       "1    31785\n",
       "0     6833\n",
       "2      991\n",
       "Name: count, dtype: int64"
      ]
     },
     "execution_count": 197,
     "metadata": {},
     "output_type": "execute_result"
    }
   ],
   "source": [
    "ECLO_df['사고유형'].value_counts()"
   ]
  },
  {
   "cell_type": "code",
   "execution_count": 198,
   "id": "9cd5a117",
   "metadata": {},
   "outputs": [
    {
     "data": {
      "text/plain": [
       "사고유형 - 세부분류\n",
       "측면충돌          17104\n",
       "기타            10630\n",
       "추돌             5885\n",
       "횡단중            2443\n",
       "정면충돌            837\n",
       "차도통행중           616\n",
       "후진중충돌           613\n",
       "보도통행중           524\n",
       "길가장자리구역통행중      467\n",
       "공작물충돌           324\n",
       "전도전복 - 전도       144\n",
       "전도전복 - 전복        10\n",
       "도로외이탈 - 추락        8\n",
       "도로외이탈 - 기타        4\n",
       "Name: count, dtype: int64"
      ]
     },
     "execution_count": 198,
     "metadata": {},
     "output_type": "execute_result"
    }
   ],
   "source": [
    "ECLO_df['사고유형 - 세부분류'].value_counts()"
   ]
  },
  {
   "cell_type": "code",
   "execution_count": 199,
   "id": "d6591cd6",
   "metadata": {},
   "outputs": [],
   "source": [
    "ECLO_df['사고유형 - 세부분류'] = le.fit_transform(ECLO_df['사고유형 - 세부분류'])"
   ]
  },
  {
   "cell_type": "code",
   "execution_count": 200,
   "id": "6ed3c4fc",
   "metadata": {},
   "outputs": [
    {
     "data": {
      "text/plain": [
       "사고유형 - 세부분류\n",
       "11    17104\n",
       "1     10630\n",
       "10     5885\n",
       "12     2443\n",
       "8       837\n",
       "9       616\n",
       "13      613\n",
       "5       524\n",
       "2       467\n",
       "0       324\n",
       "6       144\n",
       "7        10\n",
       "4         8\n",
       "3         4\n",
       "Name: count, dtype: int64"
      ]
     },
     "execution_count": 200,
     "metadata": {},
     "output_type": "execute_result"
    }
   ],
   "source": [
    "ECLO_df['사고유형 - 세부분류'].value_counts()"
   ]
  },
  {
   "cell_type": "code",
   "execution_count": 201,
   "id": "fb60ad57",
   "metadata": {},
   "outputs": [
    {
     "data": {
      "text/plain": [
       "법규위반\n",
       "안전운전불이행      21876\n",
       "안전거리미확보       5277\n",
       "신호위반          3786\n",
       "교차로운행방법위반     2750\n",
       "기타            1396\n",
       "보행자보호의무위반     1154\n",
       "직진우회전진행방해      980\n",
       "차로위반           949\n",
       "중앙선침범          881\n",
       "불법유턴           427\n",
       "과속             133\n",
       "Name: count, dtype: int64"
      ]
     },
     "execution_count": 201,
     "metadata": {},
     "output_type": "execute_result"
    }
   ],
   "source": [
    "ECLO_df['법규위반'].value_counts()"
   ]
  },
  {
   "cell_type": "code",
   "execution_count": 202,
   "id": "6c5b41b2",
   "metadata": {},
   "outputs": [],
   "source": [
    "ECLO_df['법규위반'] = le.fit_transform(ECLO_df['법규위반'])"
   ]
  },
  {
   "cell_type": "code",
   "execution_count": 203,
   "id": "56423f3f",
   "metadata": {},
   "outputs": [
    {
     "data": {
      "text/plain": [
       "법규위반\n",
       "7     21876\n",
       "6      5277\n",
       "5      3786\n",
       "1      2750\n",
       "2      1396\n",
       "3      1154\n",
       "9       980\n",
       "10      949\n",
       "8       881\n",
       "4       427\n",
       "0       133\n",
       "Name: count, dtype: int64"
      ]
     },
     "execution_count": 203,
     "metadata": {},
     "output_type": "execute_result"
    }
   ],
   "source": [
    "ECLO_df['법규위반'].value_counts()"
   ]
  },
  {
   "cell_type": "code",
   "execution_count": 204,
   "id": "3c828c41",
   "metadata": {},
   "outputs": [
    {
     "data": {
      "text/plain": [
       "가해운전자 연령\n",
       "60세       1031\n",
       "미분류        994\n",
       "58세        977\n",
       "53세        956\n",
       "57세        943\n",
       "          ... \n",
       "90세          2\n",
       "4세           1\n",
       "90세 이상       1\n",
       "98세 이상       1\n",
       "5세           1\n",
       "Name: count, Length: 89, dtype: int64"
      ]
     },
     "execution_count": 204,
     "metadata": {},
     "output_type": "execute_result"
    }
   ],
   "source": [
    "ECLO_df['가해운전자 연령'].value_counts()"
   ]
  },
  {
   "cell_type": "code",
   "execution_count": 205,
   "id": "ad293156",
   "metadata": {},
   "outputs": [],
   "source": [
    "ECLO_df['가해운전자 연령'] = le.fit_transform(ECLO_df['가해운전자 연령'])"
   ]
  },
  {
   "cell_type": "code",
   "execution_count": 206,
   "id": "d16e5186",
   "metadata": {},
   "outputs": [
    {
     "data": {
      "text/plain": [
       "가해운전자 연령\n",
       "52    1031\n",
       "88     994\n",
       "49     977\n",
       "44     956\n",
       "48     943\n",
       "      ... \n",
       "84       2\n",
       "40       1\n",
       "85       1\n",
       "86       1\n",
       "51       1\n",
       "Name: count, Length: 89, dtype: int64"
      ]
     },
     "execution_count": 206,
     "metadata": {},
     "output_type": "execute_result"
    }
   ],
   "source": [
    "ECLO_df['가해운전자 연령'].value_counts()"
   ]
  },
  {
   "cell_type": "markdown",
   "id": "0d760ea3",
   "metadata": {},
   "source": [
    "이상치 제거"
   ]
  },
  {
   "cell_type": "code",
   "execution_count": 207,
   "id": "07c14e2f",
   "metadata": {
    "scrolled": false
   },
   "outputs": [
    {
     "data": {
      "image/png": "[encoded data removed]",
      "text/plain": [
       "<Figure size 900x900 with 2 Axes>"
      ]
     },
     "metadata": {},
     "output_type": "display_data"
    }
   ],
   "source": [
    "import seaborn as sns\n",
    "import matplotlib.pyplot as plt\n",
    "import matplotlib.font_manager as fm\n",
    "\n",
    "# 한글 폰트 설정\n",
    "plt.rcParams['font.family'] = 'Gulim'\n",
    "\n",
    "# 데이터 준비\n",
    "corr = get_preprocessed_df(ECLO_df).corr()\n",
    "\n",
    "# 히트맵 생성\n",
    "plt.figure(figsize=(9,9))\n",
    "sns.heatmap(corr, cmap='RdBu', annot=True, annot_kws={\"size\": 10})\n",
    "plt.tight_layout()\n",
    "plt.show()"
   ]
  },
  {
   "cell_type": "markdown",
   "id": "b837df05",
   "metadata": {},
   "source": [
    "## ECLO  와 양의 상관관계가 가장 높은것 : 사고유형, 사고유형 - 세부분류\n",
    "## ECLO  와 음의 상관관계가 가장 높은것 : 가해운전자 연령"
   ]
  },
  {
   "cell_type": "markdown",
   "id": "ffa7e35d",
   "metadata": {},
   "source": [
    "### 그러나 test.csv에 따르면 사고유형 - 세부분류, 가해운전자 연령 없으므로 예측 요인에 넣지 말아야한다.\n",
    "## 이상치 제거는 <span style=\"color: red;\">사고유형 칼럼</span>에서 제거"
   ]
  },
  {
   "cell_type": "code",
   "execution_count": null,
   "id": "636da725",
   "metadata": {},
   "outputs": [],
   "source": [
    "              "
   ]
  }
 ],
 "metadata": {
  "kernelspec": {
   "display_name": "Python 3 (ipykernel)",
   "language": "python",
   "name": "python3"
  },
  "language_info": {
   "codemirror_mode": {
    "name": "ipython",
    "version": 3
   },
   "file_extension": ".py",
   "mimetype": "text/x-python",
   "name": "python",
   "nbconvert_exporter": "python",
   "pygments_lexer": "ipython3",
   "version": "3.11.5"
  }
 },
 "nbformat": 4,
 "nbformat_minor": 5
}
