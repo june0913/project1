{
 "cells": [
  {
   "cell_type": "code",
   "execution_count": 1,
   "id": "6c4284be",
   "metadata": {},
   "outputs": [],
   "source": [
    "import pandas as pd\n",
    "\n",
    "ECLO_df = pd.read_csv('train.csv')"
   ]
  },
  {
   "cell_type": "markdown",
   "id": "b8394e94",
   "metadata": {},
   "source": [
    "# <span style=\"color: violet;\"> 데이터 살펴 보기 </span>"
   ]
  },
  {
   "cell_type": "code",
   "execution_count": 2,
   "id": "e3561f03",
   "metadata": {},
   "outputs": [
    {
     "data": {
      "text/html": [
       "<div>\n",
       "<style scoped>\n",
       "    .dataframe tbody tr th:only-of-type {\n",
       "        vertical-align: middle;\n",
       "    }\n",
       "\n",
       "    .dataframe tbody tr th {\n",
       "        vertical-align: top;\n",
       "    }\n",
       "\n",
       "    .dataframe thead th {\n",
       "        text-align: right;\n",
       "    }\n",
       "</style>\n",
       "<table border=\"1\" class=\"dataframe\">\n",
       "  <thead>\n",
       "    <tr style=\"text-align: right;\">\n",
       "      <th></th>\n",
       "      <th>ID</th>\n",
       "      <th>사고일시</th>\n",
       "      <th>요일</th>\n",
       "      <th>기상상태</th>\n",
       "      <th>시군구</th>\n",
       "      <th>도로형태</th>\n",
       "      <th>노면상태</th>\n",
       "      <th>사고유형</th>\n",
       "      <th>사고유형 - 세부분류</th>\n",
       "      <th>법규위반</th>\n",
       "      <th>...</th>\n",
       "      <th>가해운전자 상해정도</th>\n",
       "      <th>피해운전자 차종</th>\n",
       "      <th>피해운전자 성별</th>\n",
       "      <th>피해운전자 연령</th>\n",
       "      <th>피해운전자 상해정도</th>\n",
       "      <th>사망자수</th>\n",
       "      <th>중상자수</th>\n",
       "      <th>경상자수</th>\n",
       "      <th>부상자수</th>\n",
       "      <th>ECLO</th>\n",
       "    </tr>\n",
       "  </thead>\n",
       "  <tbody>\n",
       "    <tr>\n",
       "      <th>0</th>\n",
       "      <td>ACCIDENT_00000</td>\n",
       "      <td>2019-01-01 00</td>\n",
       "      <td>화요일</td>\n",
       "      <td>맑음</td>\n",
       "      <td>대구광역시 중구 대신동</td>\n",
       "      <td>단일로 - 기타</td>\n",
       "      <td>건조</td>\n",
       "      <td>차대사람</td>\n",
       "      <td>길가장자리구역통행중</td>\n",
       "      <td>안전운전불이행</td>\n",
       "      <td>...</td>\n",
       "      <td>상해없음</td>\n",
       "      <td>보행자</td>\n",
       "      <td>여</td>\n",
       "      <td>70세</td>\n",
       "      <td>중상</td>\n",
       "      <td>0</td>\n",
       "      <td>1</td>\n",
       "      <td>0</td>\n",
       "      <td>0</td>\n",
       "      <td>5</td>\n",
       "    </tr>\n",
       "    <tr>\n",
       "      <th>1</th>\n",
       "      <td>ACCIDENT_00001</td>\n",
       "      <td>2019-01-01 00</td>\n",
       "      <td>화요일</td>\n",
       "      <td>흐림</td>\n",
       "      <td>대구광역시 달서구 감삼동</td>\n",
       "      <td>단일로 - 기타</td>\n",
       "      <td>건조</td>\n",
       "      <td>차대사람</td>\n",
       "      <td>보도통행중</td>\n",
       "      <td>기타</td>\n",
       "      <td>...</td>\n",
       "      <td>상해없음</td>\n",
       "      <td>보행자</td>\n",
       "      <td>남</td>\n",
       "      <td>61세</td>\n",
       "      <td>경상</td>\n",
       "      <td>0</td>\n",
       "      <td>0</td>\n",
       "      <td>1</td>\n",
       "      <td>0</td>\n",
       "      <td>3</td>\n",
       "    </tr>\n",
       "    <tr>\n",
       "      <th>2</th>\n",
       "      <td>ACCIDENT_00002</td>\n",
       "      <td>2019-01-01 01</td>\n",
       "      <td>화요일</td>\n",
       "      <td>맑음</td>\n",
       "      <td>대구광역시 수성구 두산동</td>\n",
       "      <td>단일로 - 기타</td>\n",
       "      <td>건조</td>\n",
       "      <td>차대사람</td>\n",
       "      <td>차도통행중</td>\n",
       "      <td>안전운전불이행</td>\n",
       "      <td>...</td>\n",
       "      <td>상해없음</td>\n",
       "      <td>보행자</td>\n",
       "      <td>남</td>\n",
       "      <td>38세</td>\n",
       "      <td>경상</td>\n",
       "      <td>0</td>\n",
       "      <td>0</td>\n",
       "      <td>1</td>\n",
       "      <td>0</td>\n",
       "      <td>3</td>\n",
       "    </tr>\n",
       "    <tr>\n",
       "      <th>3</th>\n",
       "      <td>ACCIDENT_00003</td>\n",
       "      <td>2019-01-01 02</td>\n",
       "      <td>화요일</td>\n",
       "      <td>맑음</td>\n",
       "      <td>대구광역시 북구 복현동</td>\n",
       "      <td>단일로 - 기타</td>\n",
       "      <td>건조</td>\n",
       "      <td>차대차</td>\n",
       "      <td>추돌</td>\n",
       "      <td>안전운전불이행</td>\n",
       "      <td>...</td>\n",
       "      <td>상해없음</td>\n",
       "      <td>승용</td>\n",
       "      <td>남</td>\n",
       "      <td>36세</td>\n",
       "      <td>중상</td>\n",
       "      <td>0</td>\n",
       "      <td>1</td>\n",
       "      <td>0</td>\n",
       "      <td>0</td>\n",
       "      <td>5</td>\n",
       "    </tr>\n",
       "    <tr>\n",
       "      <th>4</th>\n",
       "      <td>ACCIDENT_00004</td>\n",
       "      <td>2019-01-01 04</td>\n",
       "      <td>화요일</td>\n",
       "      <td>맑음</td>\n",
       "      <td>대구광역시 동구 신암동</td>\n",
       "      <td>단일로 - 기타</td>\n",
       "      <td>건조</td>\n",
       "      <td>차대차</td>\n",
       "      <td>추돌</td>\n",
       "      <td>안전운전불이행</td>\n",
       "      <td>...</td>\n",
       "      <td>상해없음</td>\n",
       "      <td>승용</td>\n",
       "      <td>남</td>\n",
       "      <td>52세</td>\n",
       "      <td>경상</td>\n",
       "      <td>0</td>\n",
       "      <td>0</td>\n",
       "      <td>1</td>\n",
       "      <td>0</td>\n",
       "      <td>3</td>\n",
       "    </tr>\n",
       "  </tbody>\n",
       "</table>\n",
       "<p>5 rows × 23 columns</p>\n",
       "</div>"
      ],
      "text/plain": [
       "               ID           사고일시   요일 기상상태            시군구      도로형태 노면상태  \\\n",
       "0  ACCIDENT_00000  2019-01-01 00  화요일   맑음   대구광역시 중구 대신동  단일로 - 기타   건조   \n",
       "1  ACCIDENT_00001  2019-01-01 00  화요일   흐림  대구광역시 달서구 감삼동  단일로 - 기타   건조   \n",
       "2  ACCIDENT_00002  2019-01-01 01  화요일   맑음  대구광역시 수성구 두산동  단일로 - 기타   건조   \n",
       "3  ACCIDENT_00003  2019-01-01 02  화요일   맑음   대구광역시 북구 복현동  단일로 - 기타   건조   \n",
       "4  ACCIDENT_00004  2019-01-01 04  화요일   맑음   대구광역시 동구 신암동  단일로 - 기타   건조   \n",
       "\n",
       "   사고유형 사고유형 - 세부분류     법규위반  ... 가해운전자 상해정도 피해운전자 차종 피해운전자 성별 피해운전자 연령  \\\n",
       "0  차대사람  길가장자리구역통행중  안전운전불이행  ...       상해없음      보행자        여      70세   \n",
       "1  차대사람       보도통행중       기타  ...       상해없음      보행자        남      61세   \n",
       "2  차대사람       차도통행중  안전운전불이행  ...       상해없음      보행자        남      38세   \n",
       "3   차대차          추돌  안전운전불이행  ...       상해없음       승용        남      36세   \n",
       "4   차대차          추돌  안전운전불이행  ...       상해없음       승용        남      52세   \n",
       "\n",
       "  피해운전자 상해정도 사망자수 중상자수 경상자수  부상자수  ECLO  \n",
       "0         중상    0    1    0     0     5  \n",
       "1         경상    0    0    1     0     3  \n",
       "2         경상    0    0    1     0     3  \n",
       "3         중상    0    1    0     0     5  \n",
       "4         경상    0    0    1     0     3  \n",
       "\n",
       "[5 rows x 23 columns]"
      ]
     },
     "execution_count": 2,
     "metadata": {},
     "output_type": "execute_result"
    }
   ],
   "source": [
    "ECLO_df.head()"
   ]
  },
  {
   "cell_type": "code",
   "execution_count": 3,
   "id": "16e7246f",
   "metadata": {},
   "outputs": [
    {
     "name": "stdout",
     "output_type": "stream",
     "text": [
      "<class 'pandas.core.frame.DataFrame'>\n",
      "RangeIndex: 39609 entries, 0 to 39608\n",
      "Data columns (total 23 columns):\n",
      " #   Column       Non-Null Count  Dtype \n",
      "---  ------       --------------  ----- \n",
      " 0   ID           39609 non-null  object\n",
      " 1   사고일시         39609 non-null  object\n",
      " 2   요일           39609 non-null  object\n",
      " 3   기상상태         39609 non-null  object\n",
      " 4   시군구          39609 non-null  object\n",
      " 5   도로형태         39609 non-null  object\n",
      " 6   노면상태         39609 non-null  object\n",
      " 7   사고유형         39609 non-null  object\n",
      " 8   사고유형 - 세부분류  39609 non-null  object\n",
      " 9   법규위반         39609 non-null  object\n",
      " 10  가해운전자 차종     39609 non-null  object\n",
      " 11  가해운전자 성별     39609 non-null  object\n",
      " 12  가해운전자 연령     39609 non-null  object\n",
      " 13  가해운전자 상해정도   39609 non-null  object\n",
      " 14  피해운전자 차종     38618 non-null  object\n",
      " 15  피해운전자 성별     38618 non-null  object\n",
      " 16  피해운전자 연령     38618 non-null  object\n",
      " 17  피해운전자 상해정도   38618 non-null  object\n",
      " 18  사망자수         39609 non-null  int64 \n",
      " 19  중상자수         39609 non-null  int64 \n",
      " 20  경상자수         39609 non-null  int64 \n",
      " 21  부상자수         39609 non-null  int64 \n",
      " 22  ECLO         39609 non-null  int64 \n",
      "dtypes: int64(5), object(18)\n",
      "memory usage: 7.0+ MB\n"
     ]
    }
   ],
   "source": [
    "ECLO_df.info()"
   ]
  },
  {
   "cell_type": "markdown",
   "id": "af46964d",
   "metadata": {},
   "source": [
    "### 22개 columns 과 39609개의 row를 갖고 있음.\n",
    "### 피해 운전자 차종, 성별, 연령, 상해정도가 38618개의 row로 <span style=\"color: red;\">991개의 차이</span>가나나 \n",
    "### 혼자 사고난 거라 볼 수 있으므로 결측치 처리하면 안됨. "
   ]
  },
  {
   "cell_type": "markdown",
   "id": "b5d2af8c",
   "metadata": {},
   "source": [
    "# <span style=\"color: violet;\"> 데이터 가공</span>"
   ]
  },
  {
   "cell_type": "markdown",
   "id": "7a644d63",
   "metadata": {},
   "source": [
    "### 학습/예측/평가 에 필요없는 칼럼을 제거해보자.\n",
    "### ELCO 수치에 직접적으로 연관없는 Columns은 test.csv파일기준으로 \n",
    "### <span style=\"color: red;\">(사고일시,요일,기상상태,시군구,도로형태,노면상태,사고유형) 을 제외한</span>\n",
    "## 'ID', '사고유형 - 세부분류', '법규위반', 가해운전자 차종', '가해운전자 성별', '가해운전자 연령'\n",
    "## '가해운전자 상해정도', '피해운전자 차종', '피해운전자 성별', '피해운전자 연령',\n",
    "## '피해운전자 상해정도', '사망자수', '중상자수', '경상자수' ,  '부상자수'\n",
    "### 라 할 수 있다. 이를 제거하자."
   ]
  },
  {
   "cell_type": "code",
   "execution_count": 4,
   "id": "e1669997",
   "metadata": {},
   "outputs": [],
   "source": [
    "ECLO_df.drop(['ID','사고유형 - 세부분류', '법규위반', '가해운전자 차종', '가해운전자 성별', '가해운전자 연령', '가해운전자 상해정도','피해운전자 차종', '피해운전자 성별','피해운전자 연령', '피해운전자 상해정도','사망자수','중상자수','경상자수','부상자수'], axis=1, inplace = True)"
   ]
  },
  {
   "cell_type": "code",
   "execution_count": 5,
   "id": "c5f3836f",
   "metadata": {},
   "outputs": [
    {
     "name": "stdout",
     "output_type": "stream",
     "text": [
      "<class 'pandas.core.frame.DataFrame'>\n",
      "RangeIndex: 39609 entries, 0 to 39608\n",
      "Data columns (total 8 columns):\n",
      " #   Column  Non-Null Count  Dtype \n",
      "---  ------  --------------  ----- \n",
      " 0   사고일시    39609 non-null  object\n",
      " 1   요일      39609 non-null  object\n",
      " 2   기상상태    39609 non-null  object\n",
      " 3   시군구     39609 non-null  object\n",
      " 4   도로형태    39609 non-null  object\n",
      " 5   노면상태    39609 non-null  object\n",
      " 6   사고유형    39609 non-null  object\n",
      " 7   ECLO    39609 non-null  int64 \n",
      "dtypes: int64(1), object(7)\n",
      "memory usage: 2.4+ MB\n"
     ]
    }
   ],
   "source": [
    "ECLO_df.info()"
   ]
  },
  {
   "cell_type": "markdown",
   "id": "fd9113c9",
   "metadata": {},
   "source": [
    "## 이제 각각의 데이터를 살펴보자.\n",
    "### 또한, 학습/예측/평가를 하기 위해서는 수치형 데이터로 인코딩 되어야 하므로 이를 수치화 시킨다."
   ]
  },
  {
   "cell_type": "code",
   "execution_count": 6,
   "id": "7c4a4e4f",
   "metadata": {},
   "outputs": [
    {
     "data": {
      "text/plain": [
       "0        2019-01-01 00\n",
       "1        2019-01-01 00\n",
       "2        2019-01-01 01\n",
       "3        2019-01-01 02\n",
       "4        2019-01-01 04\n",
       "             ...      \n",
       "39604    2021-12-31 19\n",
       "39605    2021-12-31 19\n",
       "39606    2021-12-31 21\n",
       "39607    2021-12-31 22\n",
       "39608    2021-12-31 23\n",
       "Name: 사고일시, Length: 39609, dtype: object"
      ]
     },
     "execution_count": 6,
     "metadata": {},
     "output_type": "execute_result"
    }
   ],
   "source": [
    "ECLO_df['사고일시']"
   ]
  },
  {
   "cell_type": "markdown",
   "id": "6e93796c",
   "metadata": {},
   "source": [
    "### 년 월 일 시 로 되어있다. 이를 각각 나눠 columns로 다시 추가해주자."
   ]
  },
  {
   "cell_type": "code",
   "execution_count": 7,
   "id": "a8035548",
   "metadata": {},
   "outputs": [
    {
     "data": {
      "text/html": [
       "<div>\n",
       "<style scoped>\n",
       "    .dataframe tbody tr th:only-of-type {\n",
       "        vertical-align: middle;\n",
       "    }\n",
       "\n",
       "    .dataframe tbody tr th {\n",
       "        vertical-align: top;\n",
       "    }\n",
       "\n",
       "    .dataframe thead th {\n",
       "        text-align: right;\n",
       "    }\n",
       "</style>\n",
       "<table border=\"1\" class=\"dataframe\">\n",
       "  <thead>\n",
       "    <tr style=\"text-align: right;\">\n",
       "      <th></th>\n",
       "      <th>사고일시</th>\n",
       "      <th>요일</th>\n",
       "      <th>기상상태</th>\n",
       "      <th>시군구</th>\n",
       "      <th>도로형태</th>\n",
       "      <th>노면상태</th>\n",
       "      <th>사고유형</th>\n",
       "      <th>ECLO</th>\n",
       "      <th>year</th>\n",
       "      <th>month</th>\n",
       "      <th>day</th>\n",
       "      <th>hour</th>\n",
       "    </tr>\n",
       "  </thead>\n",
       "  <tbody>\n",
       "    <tr>\n",
       "      <th>0</th>\n",
       "      <td>2019-01-01 00:00:00</td>\n",
       "      <td>화요일</td>\n",
       "      <td>맑음</td>\n",
       "      <td>대구광역시 중구 대신동</td>\n",
       "      <td>단일로 - 기타</td>\n",
       "      <td>건조</td>\n",
       "      <td>차대사람</td>\n",
       "      <td>5</td>\n",
       "      <td>2019</td>\n",
       "      <td>1</td>\n",
       "      <td>1</td>\n",
       "      <td>0</td>\n",
       "    </tr>\n",
       "    <tr>\n",
       "      <th>1</th>\n",
       "      <td>2019-01-01 00:00:00</td>\n",
       "      <td>화요일</td>\n",
       "      <td>흐림</td>\n",
       "      <td>대구광역시 달서구 감삼동</td>\n",
       "      <td>단일로 - 기타</td>\n",
       "      <td>건조</td>\n",
       "      <td>차대사람</td>\n",
       "      <td>3</td>\n",
       "      <td>2019</td>\n",
       "      <td>1</td>\n",
       "      <td>1</td>\n",
       "      <td>0</td>\n",
       "    </tr>\n",
       "    <tr>\n",
       "      <th>2</th>\n",
       "      <td>2019-01-01 01:00:00</td>\n",
       "      <td>화요일</td>\n",
       "      <td>맑음</td>\n",
       "      <td>대구광역시 수성구 두산동</td>\n",
       "      <td>단일로 - 기타</td>\n",
       "      <td>건조</td>\n",
       "      <td>차대사람</td>\n",
       "      <td>3</td>\n",
       "      <td>2019</td>\n",
       "      <td>1</td>\n",
       "      <td>1</td>\n",
       "      <td>1</td>\n",
       "    </tr>\n",
       "  </tbody>\n",
       "</table>\n",
       "</div>"
      ],
      "text/plain": [
       "                 사고일시   요일 기상상태            시군구      도로형태 노면상태  사고유형  ECLO  \\\n",
       "0 2019-01-01 00:00:00  화요일   맑음   대구광역시 중구 대신동  단일로 - 기타   건조  차대사람     5   \n",
       "1 2019-01-01 00:00:00  화요일   흐림  대구광역시 달서구 감삼동  단일로 - 기타   건조  차대사람     3   \n",
       "2 2019-01-01 01:00:00  화요일   맑음  대구광역시 수성구 두산동  단일로 - 기타   건조  차대사람     3   \n",
       "\n",
       "   year  month  day  hour  \n",
       "0  2019      1    1     0  \n",
       "1  2019      1    1     0  \n",
       "2  2019      1    1     1  "
      ]
     },
     "execution_count": 7,
     "metadata": {},
     "output_type": "execute_result"
    }
   ],
   "source": [
    "#문자열을 datetime 타입으로 변경\n",
    "ECLO_df['사고일시']=ECLO_df.사고일시.apply(pd.to_datetime)\n",
    "\n",
    "#datetime 타입에서 년, 월, 일, 시간 추출\n",
    "ECLO_df['year']=ECLO_df.사고일시.apply(lambda x : x.year)\n",
    "ECLO_df['month']=ECLO_df.사고일시.apply(lambda x : x.month)\n",
    "ECLO_df['day']=ECLO_df.사고일시.apply(lambda x : x.day)\n",
    "ECLO_df['hour']=ECLO_df.사고일시.apply(lambda x : x.hour)\n",
    "ECLO_df.head(3)"
   ]
  },
  {
   "cell_type": "markdown",
   "id": "9e8d4b92",
   "metadata": {},
   "source": [
    "### 이제 사고일시 컬럼은 삭제 해주자."
   ]
  },
  {
   "cell_type": "code",
   "execution_count": 8,
   "id": "54188dbe",
   "metadata": {},
   "outputs": [],
   "source": [
    "ECLO_df.drop('사고일시', axis=1, inplace = True)"
   ]
  },
  {
   "cell_type": "code",
   "execution_count": 9,
   "id": "d1bfe764",
   "metadata": {},
   "outputs": [
    {
     "data": {
      "text/html": [
       "<div>\n",
       "<style scoped>\n",
       "    .dataframe tbody tr th:only-of-type {\n",
       "        vertical-align: middle;\n",
       "    }\n",
       "\n",
       "    .dataframe tbody tr th {\n",
       "        vertical-align: top;\n",
       "    }\n",
       "\n",
       "    .dataframe thead th {\n",
       "        text-align: right;\n",
       "    }\n",
       "</style>\n",
       "<table border=\"1\" class=\"dataframe\">\n",
       "  <thead>\n",
       "    <tr style=\"text-align: right;\">\n",
       "      <th></th>\n",
       "      <th>요일</th>\n",
       "      <th>기상상태</th>\n",
       "      <th>시군구</th>\n",
       "      <th>도로형태</th>\n",
       "      <th>노면상태</th>\n",
       "      <th>사고유형</th>\n",
       "      <th>ECLO</th>\n",
       "      <th>year</th>\n",
       "      <th>month</th>\n",
       "      <th>day</th>\n",
       "      <th>hour</th>\n",
       "    </tr>\n",
       "  </thead>\n",
       "  <tbody>\n",
       "    <tr>\n",
       "      <th>0</th>\n",
       "      <td>화요일</td>\n",
       "      <td>맑음</td>\n",
       "      <td>대구광역시 중구 대신동</td>\n",
       "      <td>단일로 - 기타</td>\n",
       "      <td>건조</td>\n",
       "      <td>차대사람</td>\n",
       "      <td>5</td>\n",
       "      <td>2019</td>\n",
       "      <td>1</td>\n",
       "      <td>1</td>\n",
       "      <td>0</td>\n",
       "    </tr>\n",
       "    <tr>\n",
       "      <th>1</th>\n",
       "      <td>화요일</td>\n",
       "      <td>흐림</td>\n",
       "      <td>대구광역시 달서구 감삼동</td>\n",
       "      <td>단일로 - 기타</td>\n",
       "      <td>건조</td>\n",
       "      <td>차대사람</td>\n",
       "      <td>3</td>\n",
       "      <td>2019</td>\n",
       "      <td>1</td>\n",
       "      <td>1</td>\n",
       "      <td>0</td>\n",
       "    </tr>\n",
       "    <tr>\n",
       "      <th>2</th>\n",
       "      <td>화요일</td>\n",
       "      <td>맑음</td>\n",
       "      <td>대구광역시 수성구 두산동</td>\n",
       "      <td>단일로 - 기타</td>\n",
       "      <td>건조</td>\n",
       "      <td>차대사람</td>\n",
       "      <td>3</td>\n",
       "      <td>2019</td>\n",
       "      <td>1</td>\n",
       "      <td>1</td>\n",
       "      <td>1</td>\n",
       "    </tr>\n",
       "  </tbody>\n",
       "</table>\n",
       "</div>"
      ],
      "text/plain": [
       "    요일 기상상태            시군구      도로형태 노면상태  사고유형  ECLO  year  month  day  hour\n",
       "0  화요일   맑음   대구광역시 중구 대신동  단일로 - 기타   건조  차대사람     5  2019      1    1     0\n",
       "1  화요일   흐림  대구광역시 달서구 감삼동  단일로 - 기타   건조  차대사람     3  2019      1    1     0\n",
       "2  화요일   맑음  대구광역시 수성구 두산동  단일로 - 기타   건조  차대사람     3  2019      1    1     1"
      ]
     },
     "execution_count": 9,
     "metadata": {},
     "output_type": "execute_result"
    }
   ],
   "source": [
    "ECLO_df.head(3)"
   ]
  },
  {
   "cell_type": "code",
   "execution_count": 10,
   "id": "f42dd61d",
   "metadata": {},
   "outputs": [
    {
     "data": {
      "text/plain": [
       "0        화요일\n",
       "1        화요일\n",
       "2        화요일\n",
       "3        화요일\n",
       "4        화요일\n",
       "        ... \n",
       "39604    금요일\n",
       "39605    금요일\n",
       "39606    금요일\n",
       "39607    금요일\n",
       "39608    금요일\n",
       "Name: 요일, Length: 39609, dtype: object"
      ]
     },
     "execution_count": 10,
     "metadata": {},
     "output_type": "execute_result"
    }
   ],
   "source": [
    "ECLO_df['요일']"
   ]
  },
  {
   "cell_type": "markdown",
   "id": "11aaa2ba",
   "metadata": {},
   "source": [
    "### 문자열로 되어있으므로 월요일='1' ~ 일요일='7'로 바꾼다"
   ]
  },
  {
   "cell_type": "code",
   "execution_count": 11,
   "id": "1cd6c21e",
   "metadata": {},
   "outputs": [],
   "source": [
    "# 요일을 숫자로 매핑하는 딕셔너리\n",
    "day_to_num = {\n",
    "    '월요일': 1,\n",
    "    '화요일': 2,\n",
    "    '수요일': 3,\n",
    "    '목요일': 4,\n",
    "    '금요일': 5,\n",
    "    '토요일': 6,\n",
    "    '일요일': 7\n",
    "}\n",
    "\n",
    "ECLO_df['요일'] = ECLO_df['요일'].replace(day_to_num)"
   ]
  },
  {
   "cell_type": "code",
   "execution_count": 12,
   "id": "9406f538",
   "metadata": {},
   "outputs": [
    {
     "data": {
      "text/plain": [
       "0        2\n",
       "1        2\n",
       "2        2\n",
       "3        2\n",
       "4        2\n",
       "        ..\n",
       "39604    5\n",
       "39605    5\n",
       "39606    5\n",
       "39607    5\n",
       "39608    5\n",
       "Name: 요일, Length: 39609, dtype: int64"
      ]
     },
     "execution_count": 12,
     "metadata": {},
     "output_type": "execute_result"
    }
   ],
   "source": [
    "ECLO_df['요일']"
   ]
  },
  {
   "cell_type": "code",
   "execution_count": 13,
   "id": "4dcef18f",
   "metadata": {},
   "outputs": [
    {
     "data": {
      "text/plain": [
       "0        맑음\n",
       "1        흐림\n",
       "2        맑음\n",
       "3        맑음\n",
       "4        맑음\n",
       "         ..\n",
       "39604    맑음\n",
       "39605    맑음\n",
       "39606    맑음\n",
       "39607    맑음\n",
       "39608    맑음\n",
       "Name: 기상상태, Length: 39609, dtype: object"
      ]
     },
     "execution_count": 13,
     "metadata": {},
     "output_type": "execute_result"
    }
   ],
   "source": [
    "ECLO_df['기상상태']"
   ]
  },
  {
   "cell_type": "code",
   "execution_count": 14,
   "id": "ca4dcb65",
   "metadata": {},
   "outputs": [
    {
     "data": {
      "text/plain": [
       "array(['맑음', '흐림', '기타', '비', '안개', '눈'], dtype=object)"
      ]
     },
     "execution_count": 14,
     "metadata": {},
     "output_type": "execute_result"
    }
   ],
   "source": [
    "ECLO_df['기상상태'].unique()"
   ]
  },
  {
   "cell_type": "markdown",
   "id": "c0093e64",
   "metadata": {},
   "source": [
    "### 문자열로 되어있으므로 맑음='1' ~ 눈='6'로 바꾼다"
   ]
  },
  {
   "cell_type": "code",
   "execution_count": 15,
   "id": "2375960c",
   "metadata": {},
   "outputs": [],
   "source": [
    "# 날씨 숫자로 매핑하는 딕셔너리\n",
    "weather_to_num = {\n",
    "    '맑음': 1,\n",
    "    '흐림': 2,\n",
    "    '기타': 3,\n",
    "    '비': 4,\n",
    "    '안개': 5,\n",
    "    '눈': 6,\n",
    "}\n",
    "\n",
    "ECLO_df['기상상태'] = ECLO_df['기상상태'].replace(weather_to_num)"
   ]
  },
  {
   "cell_type": "code",
   "execution_count": 16,
   "id": "5aa7a99d",
   "metadata": {},
   "outputs": [
    {
     "data": {
      "text/plain": [
       "0        1\n",
       "1        2\n",
       "2        1\n",
       "3        1\n",
       "4        1\n",
       "        ..\n",
       "39604    1\n",
       "39605    1\n",
       "39606    1\n",
       "39607    1\n",
       "39608    1\n",
       "Name: 기상상태, Length: 39609, dtype: int64"
      ]
     },
     "execution_count": 16,
     "metadata": {},
     "output_type": "execute_result"
    }
   ],
   "source": [
    "ECLO_df['기상상태']"
   ]
  },
  {
   "cell_type": "code",
   "execution_count": 17,
   "id": "c2965c96",
   "metadata": {},
   "outputs": [
    {
     "data": {
      "text/plain": [
       "0           대구광역시 중구 대신동\n",
       "1          대구광역시 달서구 감삼동\n",
       "2          대구광역시 수성구 두산동\n",
       "3           대구광역시 북구 복현동\n",
       "4           대구광역시 동구 신암동\n",
       "              ...       \n",
       "39604    대구광역시 수성구 수성동3가\n",
       "39605      대구광역시 달서구 상인동\n",
       "39606      대구광역시 달서구 월성동\n",
       "39607       대구광역시 달서구 장동\n",
       "39608       대구광역시 서구 비산동\n",
       "Name: 시군구, Length: 39609, dtype: object"
      ]
     },
     "execution_count": 17,
     "metadata": {},
     "output_type": "execute_result"
    }
   ],
   "source": [
    "ECLO_df['시군구']"
   ]
  },
  {
   "cell_type": "markdown",
   "id": "92a67e9b",
   "metadata": {},
   "source": [
    "## 대구광역시는 공통적이므로 지우고 구와 동을 분리하자."
   ]
  },
  {
   "cell_type": "code",
   "execution_count": 18,
   "id": "61d08ce9",
   "metadata": {},
   "outputs": [],
   "source": [
    "ECLO_df[['시', '구', '동']] = ECLO_df['시군구'].str.split(expand=True)\n",
    "ECLO_df.drop('시', axis=1, inplace=True) # '시' 열 제거"
   ]
  },
  {
   "cell_type": "code",
   "execution_count": 19,
   "id": "f9424e42",
   "metadata": {},
   "outputs": [
    {
     "data": {
      "text/html": [
       "<div>\n",
       "<style scoped>\n",
       "    .dataframe tbody tr th:only-of-type {\n",
       "        vertical-align: middle;\n",
       "    }\n",
       "\n",
       "    .dataframe tbody tr th {\n",
       "        vertical-align: top;\n",
       "    }\n",
       "\n",
       "    .dataframe thead th {\n",
       "        text-align: right;\n",
       "    }\n",
       "</style>\n",
       "<table border=\"1\" class=\"dataframe\">\n",
       "  <thead>\n",
       "    <tr style=\"text-align: right;\">\n",
       "      <th></th>\n",
       "      <th>요일</th>\n",
       "      <th>기상상태</th>\n",
       "      <th>시군구</th>\n",
       "      <th>도로형태</th>\n",
       "      <th>노면상태</th>\n",
       "      <th>사고유형</th>\n",
       "      <th>ECLO</th>\n",
       "      <th>year</th>\n",
       "      <th>month</th>\n",
       "      <th>day</th>\n",
       "      <th>hour</th>\n",
       "      <th>구</th>\n",
       "      <th>동</th>\n",
       "    </tr>\n",
       "  </thead>\n",
       "  <tbody>\n",
       "    <tr>\n",
       "      <th>0</th>\n",
       "      <td>2</td>\n",
       "      <td>1</td>\n",
       "      <td>대구광역시 중구 대신동</td>\n",
       "      <td>단일로 - 기타</td>\n",
       "      <td>건조</td>\n",
       "      <td>차대사람</td>\n",
       "      <td>5</td>\n",
       "      <td>2019</td>\n",
       "      <td>1</td>\n",
       "      <td>1</td>\n",
       "      <td>0</td>\n",
       "      <td>중구</td>\n",
       "      <td>대신동</td>\n",
       "    </tr>\n",
       "    <tr>\n",
       "      <th>1</th>\n",
       "      <td>2</td>\n",
       "      <td>2</td>\n",
       "      <td>대구광역시 달서구 감삼동</td>\n",
       "      <td>단일로 - 기타</td>\n",
       "      <td>건조</td>\n",
       "      <td>차대사람</td>\n",
       "      <td>3</td>\n",
       "      <td>2019</td>\n",
       "      <td>1</td>\n",
       "      <td>1</td>\n",
       "      <td>0</td>\n",
       "      <td>달서구</td>\n",
       "      <td>감삼동</td>\n",
       "    </tr>\n",
       "    <tr>\n",
       "      <th>2</th>\n",
       "      <td>2</td>\n",
       "      <td>1</td>\n",
       "      <td>대구광역시 수성구 두산동</td>\n",
       "      <td>단일로 - 기타</td>\n",
       "      <td>건조</td>\n",
       "      <td>차대사람</td>\n",
       "      <td>3</td>\n",
       "      <td>2019</td>\n",
       "      <td>1</td>\n",
       "      <td>1</td>\n",
       "      <td>1</td>\n",
       "      <td>수성구</td>\n",
       "      <td>두산동</td>\n",
       "    </tr>\n",
       "    <tr>\n",
       "      <th>3</th>\n",
       "      <td>2</td>\n",
       "      <td>1</td>\n",
       "      <td>대구광역시 북구 복현동</td>\n",
       "      <td>단일로 - 기타</td>\n",
       "      <td>건조</td>\n",
       "      <td>차대차</td>\n",
       "      <td>5</td>\n",
       "      <td>2019</td>\n",
       "      <td>1</td>\n",
       "      <td>1</td>\n",
       "      <td>2</td>\n",
       "      <td>북구</td>\n",
       "      <td>복현동</td>\n",
       "    </tr>\n",
       "    <tr>\n",
       "      <th>4</th>\n",
       "      <td>2</td>\n",
       "      <td>1</td>\n",
       "      <td>대구광역시 동구 신암동</td>\n",
       "      <td>단일로 - 기타</td>\n",
       "      <td>건조</td>\n",
       "      <td>차대차</td>\n",
       "      <td>3</td>\n",
       "      <td>2019</td>\n",
       "      <td>1</td>\n",
       "      <td>1</td>\n",
       "      <td>4</td>\n",
       "      <td>동구</td>\n",
       "      <td>신암동</td>\n",
       "    </tr>\n",
       "  </tbody>\n",
       "</table>\n",
       "</div>"
      ],
      "text/plain": [
       "   요일  기상상태            시군구      도로형태 노면상태  사고유형  ECLO  year  month  day  hour  \\\n",
       "0   2     1   대구광역시 중구 대신동  단일로 - 기타   건조  차대사람     5  2019      1    1     0   \n",
       "1   2     2  대구광역시 달서구 감삼동  단일로 - 기타   건조  차대사람     3  2019      1    1     0   \n",
       "2   2     1  대구광역시 수성구 두산동  단일로 - 기타   건조  차대사람     3  2019      1    1     1   \n",
       "3   2     1   대구광역시 북구 복현동  단일로 - 기타   건조   차대차     5  2019      1    1     2   \n",
       "4   2     1   대구광역시 동구 신암동  단일로 - 기타   건조   차대차     3  2019      1    1     4   \n",
       "\n",
       "     구    동  \n",
       "0   중구  대신동  \n",
       "1  달서구  감삼동  \n",
       "2  수성구  두산동  \n",
       "3   북구  복현동  \n",
       "4   동구  신암동  "
      ]
     },
     "execution_count": 19,
     "metadata": {},
     "output_type": "execute_result"
    }
   ],
   "source": [
    "ECLO_df.head()"
   ]
  },
  {
   "cell_type": "code",
   "execution_count": 20,
   "id": "9ef86a0b",
   "metadata": {},
   "outputs": [
    {
     "data": {
      "text/plain": [
       "array(['중구', '달서구', '수성구', '북구', '동구', '서구', '달성군', '남구'], dtype=object)"
      ]
     },
     "execution_count": 20,
     "metadata": {},
     "output_type": "execute_result"
    }
   ],
   "source": [
    "ECLO_df['구'].unique()"
   ]
  },
  {
   "cell_type": "markdown",
   "id": "20bae47b",
   "metadata": {},
   "source": [
    "###  구도 문자열로 되어있으므로 중구 ='1' ~ 남구='8'로 바꾼다"
   ]
  },
  {
   "cell_type": "code",
   "execution_count": 21,
   "id": "fa0f8668",
   "metadata": {},
   "outputs": [],
   "source": [
    "# 구이름 숫자로 매핑하는 딕셔너리\n",
    "gu_to_num = {\n",
    "    '중구': 1,\n",
    "    '달서구': 2,\n",
    "    '수성구': 3,\n",
    "    '북구': 4,\n",
    "    '동구': 5,\n",
    "    '서구': 6,\n",
    "    '달성군' : 7,\n",
    "    '남구' :8\n",
    "}\n",
    "\n",
    "ECLO_df['구'] = ECLO_df['구'].replace(gu_to_num)"
   ]
  },
  {
   "cell_type": "code",
   "execution_count": 22,
   "id": "62b34d5b",
   "metadata": {},
   "outputs": [
    {
     "data": {
      "text/plain": [
       "0        1\n",
       "1        2\n",
       "2        3\n",
       "3        4\n",
       "4        5\n",
       "        ..\n",
       "39604    3\n",
       "39605    2\n",
       "39606    2\n",
       "39607    2\n",
       "39608    6\n",
       "Name: 구, Length: 39609, dtype: int64"
      ]
     },
     "execution_count": 22,
     "metadata": {},
     "output_type": "execute_result"
    }
   ],
   "source": [
    "ECLO_df['구']"
   ]
  },
  {
   "cell_type": "code",
   "execution_count": 23,
   "id": "f7b5bd6b",
   "metadata": {},
   "outputs": [
    {
     "data": {
      "text/plain": [
       "array(['대신동', '감삼동', '두산동', '복현동', '신암동', '지산동', '상인동', '태전동', '지묘동',\n",
       "       '평리동', '신기동', '상리동', '월성동', '황금동', '구암동', '신천동', '만촌동', '남산동',\n",
       "       '비산동', '침산동', '두류동', '신매동', '대곡동', '유가읍', '논공읍', '율하동', '시지동',\n",
       "       '봉무동', '다사읍', '동산동', '이현동', '이천동', '수성동4가', '노원동3가', '서변동', '관음동',\n",
       "       '학정동', '파동', '상동', '이곡동', '효목동', '읍내동', '남성로', '죽전동', '대명동', '동천동',\n",
       "       '지저동', '사수동', '덕산동', '본리동', '용계동', '범어동', '신당동', '성당동', '용산동',\n",
       "       '태평로3가', '도학동', '욱수동', '불로동', '칠성동1가', '장기동', '매호동', '대천동',\n",
       "       '삼덕동1가', '수성동2가', '팔달동', '삼덕동', '진천동', '수성동3가', '가창면', '방촌동',\n",
       "       '산격동', '월암동', '현풍읍', '구지면', '매천동', '송현동', '고성동3가', '봉덕동', '칠성동2가',\n",
       "       '공평동', '봉산동', '괴전동', '국우동', '대현동', '노원동1가', '대봉동', '본동', '신서동',\n",
       "       '검단동', '화원읍', '동호동', '삼덕동2가', '입석동', '중동', '삼덕동3가', '파호동', '동내동',\n",
       "       '하빈면', '율암동', '동인동1가', '내당동', '유천동', '호산동', '교동', '옥포읍', '원대동3가',\n",
       "       '검사동', '동인동4가', '수성동1가', '고성동2가', '각산동', '중리동', '고성동1가', '갈산동',\n",
       "       '대림동', '호림동', '연호동', '동변동', '범물동', '계산동2가', '동문동', '고모동', '금호동',\n",
       "       '장동', '도원동', '수창동', '동인동2가', '가천동', '노변동', '달성동', '동인동3가', '서문로2가',\n",
       "       '동성로2가', '중대동', '사월동', '장관동', '신평동', '숙천동', '성동', '동일동', '시장북로',\n",
       "       '서호동', '용수동', '대흥동', '동성로3가', '연경동', '원대동1가', '남일동', '부동', '송정동',\n",
       "       '백안동', '도동', '인교동', '미대동', '노원동2가', '북성로1가', '조야동', '태평로2가', '포정동',\n",
       "       '노곡동', '진인동', '서문로1가', '덕곡동', '문화동', '상매동', '사복동', '종로1가', '계산동1가',\n",
       "       '상서동', '서성로1가', '원대동2가', '태평로1가', '미곡동', '사일동', '내동', '전동', '둔산동',\n",
       "       '매여동', '완전동', '북성로2가', '하서동', '화전동', '능성동', '서성로2가', '금강동', '향촌동',\n",
       "       '수동', '신무동', '대안동', '종로2가', '서야동', '신용동', '동성로1가', '평광동', '도남동'],\n",
       "      dtype=object)"
      ]
     },
     "execution_count": 23,
     "metadata": {},
     "output_type": "execute_result"
    }
   ],
   "source": [
    "ECLO_df['동'].unique()"
   ]
  },
  {
   "cell_type": "code",
   "execution_count": 24,
   "id": "c16e58f0",
   "metadata": {},
   "outputs": [
    {
     "data": {
      "text/plain": [
       "196"
      ]
     },
     "execution_count": 24,
     "metadata": {},
     "output_type": "execute_result"
    }
   ],
   "source": [
    "len(ECLO_df['동'].unique())"
   ]
  },
  {
   "cell_type": "markdown",
   "id": "5a8e122c",
   "metadata": {},
   "source": [
    "## 너무 많다 위의 방식으로 하기가 힘들다.\n",
    "## 레이블인코더 사이킷런 방식을 가져와서 해보자\""
   ]
  },
  {
   "cell_type": "code",
   "execution_count": 25,
   "id": "61a7e67e",
   "metadata": {},
   "outputs": [],
   "source": [
    "from sklearn import preprocessing\n",
    "le = preprocessing.LabelEncoder()"
   ]
  },
  {
   "cell_type": "code",
   "execution_count": 26,
   "id": "59148895",
   "metadata": {},
   "outputs": [],
   "source": [
    "ECLO_df['동'] = le.fit_transform(ECLO_df['동'])"
   ]
  },
  {
   "cell_type": "code",
   "execution_count": 27,
   "id": "c2cc777f",
   "metadata": {},
   "outputs": [
    {
     "data": {
      "text/plain": [
       "0         40\n",
       "1          4\n",
       "2         66\n",
       "3         79\n",
       "4        129\n",
       "        ... \n",
       "39604    118\n",
       "39605    103\n",
       "39606    144\n",
       "39607    158\n",
       "39608     89\n",
       "Name: 동, Length: 39609, dtype: int32"
      ]
     },
     "execution_count": 27,
     "metadata": {},
     "output_type": "execute_result"
    }
   ],
   "source": [
    "ECLO_df['동']"
   ]
  },
  {
   "cell_type": "markdown",
   "id": "51348c09",
   "metadata": {},
   "source": [
    "### 이제 시군구 컬럼은 삭제 해주자."
   ]
  },
  {
   "cell_type": "code",
   "execution_count": 28,
   "id": "2487476b",
   "metadata": {},
   "outputs": [],
   "source": [
    "ECLO_df.drop('시군구', axis=1, inplace = True)"
   ]
  },
  {
   "cell_type": "code",
   "execution_count": 29,
   "id": "20f87c93",
   "metadata": {},
   "outputs": [
    {
     "data": {
      "text/plain": [
       "0               단일로 - 기타\n",
       "1               단일로 - 기타\n",
       "2               단일로 - 기타\n",
       "3               단일로 - 기타\n",
       "4               단일로 - 기타\n",
       "              ...       \n",
       "39604         교차로 - 교차로안\n",
       "39605           단일로 - 기타\n",
       "39606         교차로 - 교차로안\n",
       "39607            기타 - 기타\n",
       "39608    단일로 - 지하차도(도로)내\n",
       "Name: 도로형태, Length: 39609, dtype: object"
      ]
     },
     "execution_count": 29,
     "metadata": {},
     "output_type": "execute_result"
    }
   ],
   "source": [
    "ECLO_df['도로형태']  "
   ]
  },
  {
   "cell_type": "markdown",
   "id": "a206104c",
   "metadata": {},
   "source": [
    "### 단일로에서도 기타와 지하차도(도로)내가 분리되어 있다 이를 분리하자"
   ]
  },
  {
   "cell_type": "code",
   "execution_count": 30,
   "id": "901318ae",
   "metadata": {},
   "outputs": [],
   "source": [
    "ECLO_df[['대분류', '소분류']] = ECLO_df['도로형태'].str.split(' - ', expand=True)"
   ]
  },
  {
   "cell_type": "code",
   "execution_count": 31,
   "id": "a1c190ef",
   "metadata": {},
   "outputs": [
    {
     "data": {
      "text/plain": [
       "array(['단일로', '교차로', '기타', '주차장', '미분류'], dtype=object)"
      ]
     },
     "execution_count": 31,
     "metadata": {},
     "output_type": "execute_result"
    }
   ],
   "source": [
    "ECLO_df['대분류'].unique()"
   ]
  },
  {
   "cell_type": "code",
   "execution_count": 32,
   "id": "926f8550",
   "metadata": {},
   "outputs": [],
   "source": [
    "ECLO_df['대분류'] = le.fit_transform(ECLO_df['대분류'])"
   ]
  },
  {
   "cell_type": "code",
   "execution_count": 33,
   "id": "2c5b3e82",
   "metadata": {},
   "outputs": [
    {
     "data": {
      "text/plain": [
       "0        2\n",
       "1        2\n",
       "2        2\n",
       "3        2\n",
       "4        2\n",
       "        ..\n",
       "39604    0\n",
       "39605    2\n",
       "39606    0\n",
       "39607    1\n",
       "39608    2\n",
       "Name: 대분류, Length: 39609, dtype: int32"
      ]
     },
     "execution_count": 33,
     "metadata": {},
     "output_type": "execute_result"
    }
   ],
   "source": [
    "ECLO_df['대분류']"
   ]
  },
  {
   "cell_type": "code",
   "execution_count": 34,
   "id": "7924d4e9",
   "metadata": {},
   "outputs": [
    {
     "data": {
      "text/plain": [
       "array(['기타', '교차로안', '터널', '지하차도(도로)내', '교량', '교차로횡단보도내', '주차장', '교차로부근',\n",
       "       '고가도로위', '미분류'], dtype=object)"
      ]
     },
     "execution_count": 34,
     "metadata": {},
     "output_type": "execute_result"
    }
   ],
   "source": [
    "ECLO_df['소분류'].unique()"
   ]
  },
  {
   "cell_type": "code",
   "execution_count": 35,
   "id": "765643c6",
   "metadata": {},
   "outputs": [],
   "source": [
    "ECLO_df['소분류'] = le.fit_transform(ECLO_df['소분류'])"
   ]
  },
  {
   "cell_type": "code",
   "execution_count": 36,
   "id": "4bc95b1a",
   "metadata": {},
   "outputs": [
    {
     "data": {
      "text/plain": [
       "0        5\n",
       "1        5\n",
       "2        5\n",
       "3        5\n",
       "4        5\n",
       "        ..\n",
       "39604    3\n",
       "39605    5\n",
       "39606    3\n",
       "39607    5\n",
       "39608    8\n",
       "Name: 소분류, Length: 39609, dtype: int32"
      ]
     },
     "execution_count": 36,
     "metadata": {},
     "output_type": "execute_result"
    }
   ],
   "source": [
    "ECLO_df['소분류']"
   ]
  },
  {
   "cell_type": "markdown",
   "id": "dbd1bba4",
   "metadata": {},
   "source": [
    "### 이제 도로형태 컬럼은 삭제 해주자."
   ]
  },
  {
   "cell_type": "code",
   "execution_count": 37,
   "id": "be54859c",
   "metadata": {},
   "outputs": [],
   "source": [
    "ECLO_df.drop('도로형태', axis=1, inplace = True)"
   ]
  },
  {
   "cell_type": "code",
   "execution_count": 38,
   "id": "1ef9afa5",
   "metadata": {},
   "outputs": [
    {
     "data": {
      "text/plain": [
       "array(['건조', '젖음/습기', '서리/결빙', '기타', '침수', '적설'], dtype=object)"
      ]
     },
     "execution_count": 38,
     "metadata": {},
     "output_type": "execute_result"
    }
   ],
   "source": [
    "ECLO_df['노면상태'].unique()"
   ]
  },
  {
   "cell_type": "code",
   "execution_count": 39,
   "id": "309c88b2",
   "metadata": {},
   "outputs": [],
   "source": [
    "ECLO_df['노면상태'] = le.fit_transform(ECLO_df['노면상태'])"
   ]
  },
  {
   "cell_type": "code",
   "execution_count": 40,
   "id": "0c298395",
   "metadata": {},
   "outputs": [
    {
     "data": {
      "text/plain": [
       "0        0\n",
       "1        0\n",
       "2        0\n",
       "3        0\n",
       "4        0\n",
       "        ..\n",
       "39604    0\n",
       "39605    0\n",
       "39606    0\n",
       "39607    0\n",
       "39608    0\n",
       "Name: 노면상태, Length: 39609, dtype: int32"
      ]
     },
     "execution_count": 40,
     "metadata": {},
     "output_type": "execute_result"
    }
   ],
   "source": [
    "ECLO_df['노면상태']"
   ]
  },
  {
   "cell_type": "code",
   "execution_count": 41,
   "id": "d40b99d7",
   "metadata": {},
   "outputs": [
    {
     "data": {
      "text/plain": [
       "array(['차대사람', '차대차', '차량단독'], dtype=object)"
      ]
     },
     "execution_count": 41,
     "metadata": {},
     "output_type": "execute_result"
    }
   ],
   "source": [
    "ECLO_df['사고유형'].unique()"
   ]
  },
  {
   "cell_type": "code",
   "execution_count": 42,
   "id": "24fdb05e",
   "metadata": {},
   "outputs": [],
   "source": [
    "ECLO_df['사고유형'] = le.fit_transform(ECLO_df['사고유형'])"
   ]
  },
  {
   "cell_type": "code",
   "execution_count": 43,
   "id": "7e4b4166",
   "metadata": {},
   "outputs": [
    {
     "data": {
      "text/plain": [
       "0        0\n",
       "1        0\n",
       "2        0\n",
       "3        1\n",
       "4        1\n",
       "        ..\n",
       "39604    1\n",
       "39605    1\n",
       "39606    1\n",
       "39607    1\n",
       "39608    1\n",
       "Name: 사고유형, Length: 39609, dtype: int32"
      ]
     },
     "execution_count": 43,
     "metadata": {},
     "output_type": "execute_result"
    }
   ],
   "source": [
    "ECLO_df['사고유형']"
   ]
  },
  {
   "cell_type": "code",
   "execution_count": 44,
   "id": "3563461e",
   "metadata": {},
   "outputs": [
    {
     "data": {
      "text/html": [
       "<div>\n",
       "<style scoped>\n",
       "    .dataframe tbody tr th:only-of-type {\n",
       "        vertical-align: middle;\n",
       "    }\n",
       "\n",
       "    .dataframe tbody tr th {\n",
       "        vertical-align: top;\n",
       "    }\n",
       "\n",
       "    .dataframe thead th {\n",
       "        text-align: right;\n",
       "    }\n",
       "</style>\n",
       "<table border=\"1\" class=\"dataframe\">\n",
       "  <thead>\n",
       "    <tr style=\"text-align: right;\">\n",
       "      <th></th>\n",
       "      <th>요일</th>\n",
       "      <th>기상상태</th>\n",
       "      <th>노면상태</th>\n",
       "      <th>사고유형</th>\n",
       "      <th>ECLO</th>\n",
       "      <th>year</th>\n",
       "      <th>month</th>\n",
       "      <th>day</th>\n",
       "      <th>hour</th>\n",
       "      <th>구</th>\n",
       "      <th>동</th>\n",
       "      <th>대분류</th>\n",
       "      <th>소분류</th>\n",
       "    </tr>\n",
       "  </thead>\n",
       "  <tbody>\n",
       "    <tr>\n",
       "      <th>0</th>\n",
       "      <td>2</td>\n",
       "      <td>1</td>\n",
       "      <td>0</td>\n",
       "      <td>0</td>\n",
       "      <td>5</td>\n",
       "      <td>2019</td>\n",
       "      <td>1</td>\n",
       "      <td>1</td>\n",
       "      <td>0</td>\n",
       "      <td>1</td>\n",
       "      <td>40</td>\n",
       "      <td>2</td>\n",
       "      <td>5</td>\n",
       "    </tr>\n",
       "    <tr>\n",
       "      <th>1</th>\n",
       "      <td>2</td>\n",
       "      <td>2</td>\n",
       "      <td>0</td>\n",
       "      <td>0</td>\n",
       "      <td>3</td>\n",
       "      <td>2019</td>\n",
       "      <td>1</td>\n",
       "      <td>1</td>\n",
       "      <td>0</td>\n",
       "      <td>2</td>\n",
       "      <td>4</td>\n",
       "      <td>2</td>\n",
       "      <td>5</td>\n",
       "    </tr>\n",
       "    <tr>\n",
       "      <th>2</th>\n",
       "      <td>2</td>\n",
       "      <td>1</td>\n",
       "      <td>0</td>\n",
       "      <td>0</td>\n",
       "      <td>3</td>\n",
       "      <td>2019</td>\n",
       "      <td>1</td>\n",
       "      <td>1</td>\n",
       "      <td>1</td>\n",
       "      <td>3</td>\n",
       "      <td>66</td>\n",
       "      <td>2</td>\n",
       "      <td>5</td>\n",
       "    </tr>\n",
       "    <tr>\n",
       "      <th>3</th>\n",
       "      <td>2</td>\n",
       "      <td>1</td>\n",
       "      <td>0</td>\n",
       "      <td>1</td>\n",
       "      <td>5</td>\n",
       "      <td>2019</td>\n",
       "      <td>1</td>\n",
       "      <td>1</td>\n",
       "      <td>2</td>\n",
       "      <td>4</td>\n",
       "      <td>79</td>\n",
       "      <td>2</td>\n",
       "      <td>5</td>\n",
       "    </tr>\n",
       "    <tr>\n",
       "      <th>4</th>\n",
       "      <td>2</td>\n",
       "      <td>1</td>\n",
       "      <td>0</td>\n",
       "      <td>1</td>\n",
       "      <td>3</td>\n",
       "      <td>2019</td>\n",
       "      <td>1</td>\n",
       "      <td>1</td>\n",
       "      <td>4</td>\n",
       "      <td>5</td>\n",
       "      <td>129</td>\n",
       "      <td>2</td>\n",
       "      <td>5</td>\n",
       "    </tr>\n",
       "  </tbody>\n",
       "</table>\n",
       "</div>"
      ],
      "text/plain": [
       "   요일  기상상태  노면상태  사고유형  ECLO  year  month  day  hour  구    동  대분류  소분류\n",
       "0   2     1     0     0     5  2019      1    1     0  1   40    2    5\n",
       "1   2     2     0     0     3  2019      1    1     0  2    4    2    5\n",
       "2   2     1     0     0     3  2019      1    1     1  3   66    2    5\n",
       "3   2     1     0     1     5  2019      1    1     2  4   79    2    5\n",
       "4   2     1     0     1     3  2019      1    1     4  5  129    2    5"
      ]
     },
     "execution_count": 44,
     "metadata": {},
     "output_type": "execute_result"
    }
   ],
   "source": [
    "ECLO_df.head()"
   ]
  },
  {
   "cell_type": "markdown",
   "id": "46298049",
   "metadata": {},
   "source": [
    "## 보기 좋게 하기 위해 target값 (ECLO)을 오른쪽으로 옮기자"
   ]
  },
  {
   "cell_type": "code",
   "execution_count": 45,
   "id": "a2153558",
   "metadata": {},
   "outputs": [],
   "source": [
    "col_to_move = ECLO_df['ECLO']\n",
    "ECLO_df.drop(labels=['ECLO'], axis=1, inplace=True)\n",
    "ECLO_df['ECLO'] = col_to_move"
   ]
  },
  {
   "cell_type": "code",
   "execution_count": 46,
   "id": "ad6e044a",
   "metadata": {},
   "outputs": [
    {
     "data": {
      "text/html": [
       "<div>\n",
       "<style scoped>\n",
       "    .dataframe tbody tr th:only-of-type {\n",
       "        vertical-align: middle;\n",
       "    }\n",
       "\n",
       "    .dataframe tbody tr th {\n",
       "        vertical-align: top;\n",
       "    }\n",
       "\n",
       "    .dataframe thead th {\n",
       "        text-align: right;\n",
       "    }\n",
       "</style>\n",
       "<table border=\"1\" class=\"dataframe\">\n",
       "  <thead>\n",
       "    <tr style=\"text-align: right;\">\n",
       "      <th></th>\n",
       "      <th>요일</th>\n",
       "      <th>기상상태</th>\n",
       "      <th>노면상태</th>\n",
       "      <th>사고유형</th>\n",
       "      <th>year</th>\n",
       "      <th>month</th>\n",
       "      <th>day</th>\n",
       "      <th>hour</th>\n",
       "      <th>구</th>\n",
       "      <th>동</th>\n",
       "      <th>대분류</th>\n",
       "      <th>소분류</th>\n",
       "      <th>ECLO</th>\n",
       "    </tr>\n",
       "  </thead>\n",
       "  <tbody>\n",
       "    <tr>\n",
       "      <th>0</th>\n",
       "      <td>2</td>\n",
       "      <td>1</td>\n",
       "      <td>0</td>\n",
       "      <td>0</td>\n",
       "      <td>2019</td>\n",
       "      <td>1</td>\n",
       "      <td>1</td>\n",
       "      <td>0</td>\n",
       "      <td>1</td>\n",
       "      <td>40</td>\n",
       "      <td>2</td>\n",
       "      <td>5</td>\n",
       "      <td>5</td>\n",
       "    </tr>\n",
       "    <tr>\n",
       "      <th>1</th>\n",
       "      <td>2</td>\n",
       "      <td>2</td>\n",
       "      <td>0</td>\n",
       "      <td>0</td>\n",
       "      <td>2019</td>\n",
       "      <td>1</td>\n",
       "      <td>1</td>\n",
       "      <td>0</td>\n",
       "      <td>2</td>\n",
       "      <td>4</td>\n",
       "      <td>2</td>\n",
       "      <td>5</td>\n",
       "      <td>3</td>\n",
       "    </tr>\n",
       "    <tr>\n",
       "      <th>2</th>\n",
       "      <td>2</td>\n",
       "      <td>1</td>\n",
       "      <td>0</td>\n",
       "      <td>0</td>\n",
       "      <td>2019</td>\n",
       "      <td>1</td>\n",
       "      <td>1</td>\n",
       "      <td>1</td>\n",
       "      <td>3</td>\n",
       "      <td>66</td>\n",
       "      <td>2</td>\n",
       "      <td>5</td>\n",
       "      <td>3</td>\n",
       "    </tr>\n",
       "    <tr>\n",
       "      <th>3</th>\n",
       "      <td>2</td>\n",
       "      <td>1</td>\n",
       "      <td>0</td>\n",
       "      <td>1</td>\n",
       "      <td>2019</td>\n",
       "      <td>1</td>\n",
       "      <td>1</td>\n",
       "      <td>2</td>\n",
       "      <td>4</td>\n",
       "      <td>79</td>\n",
       "      <td>2</td>\n",
       "      <td>5</td>\n",
       "      <td>5</td>\n",
       "    </tr>\n",
       "    <tr>\n",
       "      <th>4</th>\n",
       "      <td>2</td>\n",
       "      <td>1</td>\n",
       "      <td>0</td>\n",
       "      <td>1</td>\n",
       "      <td>2019</td>\n",
       "      <td>1</td>\n",
       "      <td>1</td>\n",
       "      <td>4</td>\n",
       "      <td>5</td>\n",
       "      <td>129</td>\n",
       "      <td>2</td>\n",
       "      <td>5</td>\n",
       "      <td>3</td>\n",
       "    </tr>\n",
       "  </tbody>\n",
       "</table>\n",
       "</div>"
      ],
      "text/plain": [
       "   요일  기상상태  노면상태  사고유형  year  month  day  hour  구    동  대분류  소분류  ECLO\n",
       "0   2     1     0     0  2019      1    1     0  1   40    2    5     5\n",
       "1   2     2     0     0  2019      1    1     0  2    4    2    5     3\n",
       "2   2     1     0     0  2019      1    1     1  3   66    2    5     3\n",
       "3   2     1     0     1  2019      1    1     2  4   79    2    5     5\n",
       "4   2     1     0     1  2019      1    1     4  5  129    2    5     3"
      ]
     },
     "execution_count": 46,
     "metadata": {},
     "output_type": "execute_result"
    }
   ],
   "source": [
    "ECLO_df.head()"
   ]
  },
  {
   "cell_type": "markdown",
   "id": "8d8ae037",
   "metadata": {},
   "source": [
    "### 이제 데이터 수치인코딩이 끝났다. 시각화를 해보자."
   ]
  },
  {
   "cell_type": "markdown",
   "id": "b640118b",
   "metadata": {},
   "source": [
    "# <span style=\"color: violet;\"> 데이터 시각화</span>"
   ]
  },
  {
   "cell_type": "code",
   "execution_count": 47,
   "id": "c0df3dc6",
   "metadata": {},
   "outputs": [
    {
     "data": {
      "image/png": "[encoded data removed]",
      "text/plain": [
       "<Figure size 1600x800 with 12 Axes>"
      ]
     },
     "metadata": {},
     "output_type": "display_data"
    }
   ],
   "source": [
    "import numpy as np\n",
    "import seaborn as sns\n",
    "import matplotlib.pyplot as plt\n",
    "%matplotlib inline\n",
    "\n",
    "import warnings\n",
    "warnings.filterwarnings('ignore',category=RuntimeWarning)\n",
    "\n",
    "# 한글 폰트 설정\n",
    "plt.rcParams['font.family'] = 'Gulim'\n",
    "\n",
    "fig, axs = plt.subplots(figsize=(16,8), ncols = 4, nrows =3)\n",
    "cat_features = ['요일', '기상상태','노면상태', '사고유형', 'year','month', 'day', 'hour','구','동', '대분류','소분류']\n",
    "#cat_features에 있는 모든 칼럼별로 개별 칼럼값에 따른 count의 합을 barplot으로 시각화\n",
    "for i, feature in enumerate(cat_features):\n",
    "    row=int(i/4)\n",
    "    col = i%4\n",
    "    # 시본의 barplot을 이용해 칼럼값에 따른 count의 합을 표현\n",
    "    sns.barplot(x=feature, y = 'ECLO', data=ECLO_df, ax=axs[row][col])"
   ]
  },
  {
   "cell_type": "markdown",
   "id": "e4ff8c42",
   "metadata": {},
   "source": [
    "## 노면상태, 동에서 이상치가 보이는듯 하고 소분류(도로형태)에서는 좀 차이가 나는듯하다.\n",
    "## 일단은 이상치 제거 없이 예측 평가해보자."
   ]
  },
  {
   "cell_type": "code",
   "execution_count": 48,
   "id": "750fba5f",
   "metadata": {},
   "outputs": [],
   "source": [
    "from sklearn.metrics import mean_squared_error, mean_absolute_error\n",
    "from sklearn.linear_model import LinearRegression, Ridge, Lasso\n",
    "\n",
    "\n",
    "#log 값 변환 시 Nan등의 이슈로 log()가 아닌 log1p()를 이용해 RMSLE 계산\n",
    "def rmsle(y,pred):\n",
    "    log_y=np.log1p(y)\n",
    "    log_pred=np.log1p(pred)\n",
    "    squared_error=(log_y - log_pred)**2\n",
    "    rmsle = np.sqrt(np.mean(squared_error))\n",
    "    return rmsle\n",
    "\n",
    "#사이킷런의 mean_square_error()를 이용해 RMSE 계산\n",
    "def rmse(y,pred):\n",
    "    return np.sqrt(mean_squared_error(y,pred))\n",
    "\n",
    "#MSE, RMSE, RMSLE를 모두 계산\n",
    "def evaluate_regr(y,pred):\n",
    "    rmsle_val =rmsle(y,pred)\n",
    "    rmse_val=rmse(y,pred)\n",
    "    #MAE 는 사이킷런의 mean_absolute_error()로 계산\n",
    "    mae_val=mean_absolute_error(y,pred)\n",
    "    print('RMSLE:{0:.3f}, RMSE:{1:.3F}, MAE:{2:.3F}'.format(rmsle_val,rmse_val,mae_val))\n",
    "    \n",
    "def get_model_predict(model, X_train, X_test, y_train, y_test):\n",
    "    model.fit(X_train, y_train)\n",
    "    pred=model.predict(X_test)\n",
    "\n",
    "    print('###',model.__class__.__name__,'###')\n",
    "    evaluate_regr(y_test,pred)\n",
    "#모델별로 평가 수행\n",
    "lr_reg=LinearRegression()\n",
    "ridge_reg=Ridge()\n",
    "lasso_reg=Lasso()\n",
    "\n"
   ]
  },
  {
   "cell_type": "code",
   "execution_count": 49,
   "id": "dae089d9",
   "metadata": {},
   "outputs": [
    {
     "name": "stdout",
     "output_type": "stream",
     "text": [
      "### LinearRegression ###\n",
      "RMSLE:0.462, RMSE:3.204, MAE:2.145\n",
      "### Ridge ###\n",
      "RMSLE:0.462, RMSE:3.204, MAE:2.145\n",
      "### Lasso ###\n",
      "RMSLE:0.465, RMSE:3.229, MAE:2.153\n"
     ]
    }
   ],
   "source": [
    "from sklearn.model_selection import train_test_split, GridSearchCV\n",
    "from sklearn.linear_model import LinearRegression, Ridge, Lasso\n",
    "\n",
    "y_target = ECLO_df['ECLO']\n",
    "X_features = ECLO_df.drop(['ECLO'],axis=1, inplace=False)\n",
    "\n",
    "X_train, X_test, y_train, y_test = train_test_split(X_features, y_target, test_size=0.3,\n",
    "                                                   random_state=0)\n",
    "\n",
    "for model in [lr_reg, ridge_reg, lasso_reg]:\n",
    "    get_model_predict(model,X_train, X_test, y_train, y_test)"
   ]
  },
  {
   "cell_type": "markdown",
   "id": "329696b6",
   "metadata": {},
   "source": [
    "## |실제값 - 예측값| 가장 큰 5가지 경우 가져와 보자"
   ]
  },
  {
   "cell_type": "code",
   "execution_count": 50,
   "id": "f730644f",
   "metadata": {},
   "outputs": [
    {
     "name": "stdout",
     "output_type": "stream",
     "text": [
      "      real_count  predicted_count  diff\n",
      "4131          74              5.0  69.0\n",
      "5724          65              6.0  59.0\n",
      "2210          56              5.0  51.0\n",
      "8072          37              5.0  32.0\n",
      "6866          36              5.0  31.0\n"
     ]
    }
   ],
   "source": [
    "def get_top_error_data(y_test,pred,n_tops=5):\n",
    "    #DataFrame의 칼럼으로 실제 대여회수(count)와 예측값을 서로 비교할 수 있도록 생성.\n",
    "    result_df = pd.DataFrame(y_test.values, columns = ['real_count'])\n",
    "    result_df['predicted_count']=np.round(pred)\n",
    "    result_df['diff']=np.abs(result_df['real_count']-result_df['predicted_count'])\n",
    "    \n",
    "# 예측값과 실제 값이 가장 큰 데이터 순으로 출력.\n",
    "    print(result_df.sort_values('diff',ascending=False)[:n_tops])\n",
    "    \n",
    "pred = lr_reg.predict(X_test)\n",
    "\n",
    "get_top_error_data(y_test,pred,n_tops=5)"
   ]
  },
  {
   "cell_type": "code",
   "execution_count": 51,
   "id": "99cab626",
   "metadata": {},
   "outputs": [
    {
     "data": {
      "text/plain": [
       "<Axes: >"
      ]
     },
     "execution_count": 51,
     "metadata": {},
     "output_type": "execute_result"
    },
    {
     "data": {
      "image/png": "[encoded data removed]",
      "text/plain": [
       "<Figure size 640x480 with 1 Axes>"
      ]
     },
     "metadata": {},
     "output_type": "display_data"
    }
   ],
   "source": [
    "y_target.hist()"
   ]
  },
  {
   "cell_type": "markdown",
   "id": "1a1bc9a1",
   "metadata": {},
   "source": [
    "## 긴꼬리 형태를 가지고 있다. 이상치를 처리해주자."
   ]
  },
  {
   "cell_type": "code",
   "execution_count": 52,
   "id": "1ecc302f",
   "metadata": {},
   "outputs": [
    {
     "data": {
      "image/png": "[encoded data removed]",
      "text/plain": [
       "<Figure size 640x480 with 1 Axes>"
      ]
     },
     "metadata": {},
     "output_type": "display_data"
    }
   ],
   "source": [
    "plt.boxplot(y_target)\n",
    "\n",
    "plt.ylabel('ECLO') \n",
    "\n",
    "plt.show()"
   ]
  },
  {
   "cell_type": "code",
   "execution_count": 53,
   "id": "2aecdd8d",
   "metadata": {},
   "outputs": [
    {
     "data": {
      "text/plain": [
       "1970"
      ]
     },
     "execution_count": 53,
     "metadata": {},
     "output_type": "execute_result"
    }
   ],
   "source": [
    "# ECLO 값이 10 초과 20이하인 항목의 개수 계산\n",
    "count = ECLO_df[(ECLO_df['ECLO'] > 10) & (ECLO_df['ECLO'] <= 20)].shape[0]\n",
    "\n",
    "count"
   ]
  },
  {
   "cell_type": "code",
   "execution_count": 54,
   "id": "29ea0cab",
   "metadata": {},
   "outputs": [
    {
     "data": {
      "text/plain": [
       "154"
      ]
     },
     "execution_count": 54,
     "metadata": {},
     "output_type": "execute_result"
    }
   ],
   "source": [
    "# ECLO 값이 20초과인 항목의 개수 계산\n",
    "count = ECLO_df[(ECLO_df['ECLO'] > 20)].shape[0]\n",
    "\n",
    "count"
   ]
  },
  {
   "cell_type": "code",
   "execution_count": 55,
   "id": "0e8003c8",
   "metadata": {},
   "outputs": [
    {
     "data": {
      "text/plain": [
       "2124"
      ]
     },
     "execution_count": 55,
     "metadata": {},
     "output_type": "execute_result"
    }
   ],
   "source": [
    "# ECLO 값이 20초과인 항목의 개수 계산\n",
    "count = ECLO_df[(ECLO_df['ECLO'] > 10)].shape[0]\n",
    "\n",
    "count"
   ]
  },
  {
   "cell_type": "markdown",
   "id": "12d2de4c",
   "metadata": {},
   "source": [
    "### 10초과인 값들은 평균값으로 바꿔주자."
   ]
  },
  {
   "cell_type": "code",
   "execution_count": 56,
   "id": "d974b694",
   "metadata": {},
   "outputs": [
    {
     "data": {
      "text/plain": [
       "4.726703526976192"
      ]
     },
     "execution_count": 56,
     "metadata": {},
     "output_type": "execute_result"
    }
   ],
   "source": [
    "eclo_mean =y_target.mean() \n",
    "eclo_mean"
   ]
  },
  {
   "cell_type": "code",
   "execution_count": 57,
   "id": "0a04df70",
   "metadata": {},
   "outputs": [],
   "source": [
    "y_target_transform = y_target.copy()\n",
    "y_target_transform[y_target > 10] = eclo_mean"
   ]
  },
  {
   "cell_type": "code",
   "execution_count": 58,
   "id": "0aff3b7d",
   "metadata": {},
   "outputs": [
    {
     "data": {
      "text/plain": [
       "array([ 5.        ,  3.        ,  6.        ,  4.72670353,  9.        ,\n",
       "        8.        ,  2.        ,  1.        ,  7.        ,  4.        ,\n",
       "       10.        ])"
      ]
     },
     "execution_count": 58,
     "metadata": {},
     "output_type": "execute_result"
    }
   ],
   "source": [
    "y_target_transform.unique()"
   ]
  },
  {
   "cell_type": "code",
   "execution_count": 59,
   "id": "ce42bbd4",
   "metadata": {},
   "outputs": [
    {
     "data": {
      "text/plain": [
       "<Axes: >"
      ]
     },
     "execution_count": 59,
     "metadata": {},
     "output_type": "execute_result"
    },
    {
     "data": {
      "image/png": "[encoded data removed]",
      "text/plain": [
       "<Figure size 640x480 with 1 Axes>"
      ]
     },
     "metadata": {},
     "output_type": "display_data"
    }
   ],
   "source": [
    "y_target_transform.hist()"
   ]
  },
  {
   "cell_type": "code",
   "execution_count": 60,
   "id": "e3cec15c",
   "metadata": {},
   "outputs": [
    {
     "name": "stdout",
     "output_type": "stream",
     "text": [
      "### LinearRegression ###\n",
      "RMSLE:0.375, RMSE:1.914, MAE:1.557\n",
      "### Ridge ###\n",
      "RMSLE:0.375, RMSE:1.914, MAE:1.557\n",
      "### Lasso ###\n",
      "RMSLE:0.377, RMSE:1.923, MAE:1.568\n"
     ]
    }
   ],
   "source": [
    "from sklearn.model_selection import train_test_split, GridSearchCV\n",
    "from sklearn.linear_model import LinearRegression, Ridge, Lasso\n",
    "\n",
    "X_features = ECLO_df.drop(['ECLO'],axis=1, inplace=False)\n",
    "\n",
    "X_train, X_test, y_train, y_test = train_test_split(X_features, y_target_transform, test_size=0.3,\n",
    "                                                   random_state=0)\n",
    "\n",
    "for model in [lr_reg, ridge_reg, lasso_reg]:\n",
    "    get_model_predict(model,X_train, X_test, y_train, y_test)"
   ]
  },
  {
   "cell_type": "markdown",
   "id": "ebfbc42a",
   "metadata": {},
   "source": [
    "## 이전수치\n",
    "### LinearRegression ###\n",
    "RMSLE:0.462, RMSE:3.204, MAE:2.145\n",
    "### Ridge ###\n",
    "RMSLE:0.462, RMSE:3.204, MAE:2.145\n",
    "### Lasso ###\n",
    "RMSLE:0.465, RMSE:3.229, MAE:2.153\n",
    "#### 좀더 나아짐"
   ]
  },
  {
   "cell_type": "markdown",
   "id": "ec77a784",
   "metadata": {},
   "source": [
    "### 타겟값을 로그화 시켜 정규 분포화 시켜주자"
   ]
  },
  {
   "cell_type": "code",
   "execution_count": 61,
   "id": "69e53599",
   "metadata": {},
   "outputs": [
    {
     "data": {
      "text/plain": [
       "<Axes: >"
      ]
     },
     "execution_count": 61,
     "metadata": {},
     "output_type": "execute_result"
    },
    {
     "data": {
      "image/png": "[encoded data removed]",
      "text/plain": [
       "<Figure size 640x480 with 1 Axes>"
      ]
     },
     "metadata": {},
     "output_type": "display_data"
    }
   ],
   "source": [
    "y_log_transform = np.log1p(y_target_transform)\n",
    "y_log_transform.hist()"
   ]
  },
  {
   "cell_type": "code",
   "execution_count": 62,
   "id": "27e9b10a",
   "metadata": {},
   "outputs": [
    {
     "name": "stdout",
     "output_type": "stream",
     "text": [
      "### LinearRegression ###\n",
      "RMSLE:0.151, RMSE:0.369, MAE:0.300\n",
      "### Ridge ###\n",
      "RMSLE:0.151, RMSE:0.369, MAE:0.300\n",
      "### Lasso ###\n",
      "RMSLE:0.151, RMSE:0.370, MAE:0.302\n"
     ]
    }
   ],
   "source": [
    "from sklearn.model_selection import train_test_split, GridSearchCV\n",
    "from sklearn.linear_model import LinearRegression, Ridge, Lasso\n",
    "\n",
    "X_features = ECLO_df.drop(['ECLO'],axis=1, inplace=False)\n",
    "\n",
    "X_train, X_test, y_train, y_test = train_test_split(X_features, y_log_transform, test_size=0.3,\n",
    "                                                   random_state=0)\n",
    "\n",
    "for model in [lr_reg, ridge_reg, lasso_reg]:\n",
    "    get_model_predict(model,X_train, X_test, y_train, y_test)"
   ]
  },
  {
   "cell_type": "markdown",
   "id": "2f1d4139",
   "metadata": {},
   "source": [
    "## 이전수치\n",
    "### LinearRegression ### (오리지널)\n",
    "RMSLE:0.375, RMSE:1.914, MAE:1.557\n",
    "### Ridge ###\n",
    "RMSLE:0.375, RMSE:1.914, MAE:1.557\n",
    "### Lasso ###\n",
    "RMSLE:0.377, RMSE:1.923, MAE:1.568\n",
    "### LinearRegression ### (이상치 제거)\n",
    "RMSLE:0.462, RMSE:3.204, MAE:2.145\n",
    "### Ridge ###\n",
    "RMSLE:0.462, RMSE:3.204, MAE:2.145\n",
    "### Lasso ###\n",
    "RMSLE:0.465, RMSE:3.229, MAE:2.153\n",
    "#### 성능향상이 많이 이루어 졌으나 과적합을 의심?"
   ]
  },
  {
   "cell_type": "markdown",
   "id": "eef79d25",
   "metadata": {},
   "source": [
    "## 이제 개별 피처들을 원-핫 인코딩화 시켜보자"
   ]
  },
  {
   "cell_type": "code",
   "execution_count": 63,
   "id": "2154ed96",
   "metadata": {},
   "outputs": [],
   "source": [
    "# ''요일', '기상상태','노면상태', '사고유형', 'year','month', 'day', 'hour','구','동', '대분류','소분류' 등의 피처들을 One Hot Encoding\n",
    "X_features_ohe = pd.get_dummies(X_features, columns=['요일', '기상상태','노면상태', '사고유형', 'year','month', 'day', 'hour','구','동', '대분류','소분류'])"
   ]
  },
  {
   "cell_type": "code",
   "execution_count": 64,
   "id": "6ec9307a",
   "metadata": {},
   "outputs": [
    {
     "name": "stdout",
     "output_type": "stream",
     "text": [
      "### LinearRegression ###\n",
      "RMSLE:0.151, RMSE:0.369, MAE:0.298\n",
      "### Ridge ###\n",
      "RMSLE:0.150, RMSE:0.368, MAE:0.298\n",
      "### Lasso ###\n",
      "RMSLE:0.151, RMSE:0.370, MAE:0.302\n"
     ]
    }
   ],
   "source": [
    "#원-핫 인코딩이 적용된 피처 데이터 세트 기반으로 학습/예측 데이터 분할\n",
    "X_train, X_test, y_train, y_test = train_test_split(X_features_ohe, y_log_transform, test_size=0.3,\n",
    "                                                   random_state=0)\n",
    "\n",
    "for model in [lr_reg, ridge_reg, lasso_reg]:\n",
    "    get_model_predict(model,X_train, X_test, y_train, y_test)\n",
    "    "
   ]
  },
  {
   "cell_type": "markdown",
   "id": "e2732344",
   "metadata": {},
   "source": [
    "## 이전수치\n",
    "### LinearRegression ### (오리지널)\n",
    "RMSLE:0.375, RMSE:1.914, MAE:1.557\n",
    "### Ridge ###\n",
    "RMSLE:0.375, RMSE:1.914, MAE:1.557\n",
    "### Lasso ###\n",
    "RMSLE:0.377, RMSE:1.923, MAE:1.568\n",
    "### LinearRegression ### (이상치 제거)\n",
    "RMSLE:0.462, RMSE:3.204, MAE:2.145\n",
    "### Ridge ###\n",
    "RMSLE:0.462, RMSE:3.204, MAE:2.145\n",
    "### Lasso ###\n",
    "RMSLE:0.465, RMSE:3.229, MAE:2.153\n",
    "### LinearRegression ### (로그화)\n",
    "RMSLE:0.151, RMSE:0.369, MAE:0.300\n",
    "### Ridge ###\n",
    "RMSLE:0.151, RMSE:0.369, MAE:0.300\n",
    "### Lasso ###\n",
    "RMSLE:0.151, RMSE:0.370, MAE:0.302\n",
    "#### 비슷"
   ]
  },
  {
   "cell_type": "code",
   "execution_count": 65,
   "id": "d540f28f",
   "metadata": {},
   "outputs": [
    {
     "ename": "ValueError",
     "evalue": "Length of values (311) does not match length of index (12)",
     "output_type": "error",
     "traceback": [
      "\u001b[1;31m---------------------------------------------------------------------------\u001b[0m",
      "\u001b[1;31mValueError\u001b[0m                                Traceback (most recent call last)",
      "Cell \u001b[1;32mIn[65], line 1\u001b[0m\n\u001b[1;32m----> 1\u001b[0m coef \u001b[38;5;241m=\u001b[39m pd\u001b[38;5;241m.\u001b[39mSeries(lr_reg\u001b[38;5;241m.\u001b[39mcoef_,index \u001b[38;5;241m=\u001b[39m X_features\u001b[38;5;241m.\u001b[39mcolumns)\n\u001b[0;32m      2\u001b[0m coef_sort \u001b[38;5;241m=\u001b[39m coef\u001b[38;5;241m.\u001b[39msort_values(ascending\u001b[38;5;241m=\u001b[39m\u001b[38;5;28;01mFalse\u001b[39;00m)\n\u001b[0;32m      3\u001b[0m sns\u001b[38;5;241m.\u001b[39mbarplot(x\u001b[38;5;241m=\u001b[39mcoef_sort\u001b[38;5;241m.\u001b[39mvalues, y\u001b[38;5;241m=\u001b[39mcoef_sort\u001b[38;5;241m.\u001b[39mindex)\n",
      "File \u001b[1;32m~\\anaconda3\\Lib\\site-packages\\pandas\\core\\series.py:500\u001b[0m, in \u001b[0;36mSeries.__init__\u001b[1;34m(self, data, index, dtype, name, copy, fastpath)\u001b[0m\n\u001b[0;32m    498\u001b[0m     index \u001b[38;5;241m=\u001b[39m default_index(\u001b[38;5;28mlen\u001b[39m(data))\n\u001b[0;32m    499\u001b[0m \u001b[38;5;28;01melif\u001b[39;00m is_list_like(data):\n\u001b[1;32m--> 500\u001b[0m     com\u001b[38;5;241m.\u001b[39mrequire_length_match(data, index)\n\u001b[0;32m    502\u001b[0m \u001b[38;5;66;03m# create/copy the manager\u001b[39;00m\n\u001b[0;32m    503\u001b[0m \u001b[38;5;28;01mif\u001b[39;00m \u001b[38;5;28misinstance\u001b[39m(data, (SingleBlockManager, SingleArrayManager)):\n",
      "File \u001b[1;32m~\\anaconda3\\Lib\\site-packages\\pandas\\core\\common.py:576\u001b[0m, in \u001b[0;36mrequire_length_match\u001b[1;34m(data, index)\u001b[0m\n\u001b[0;32m    572\u001b[0m \u001b[38;5;250m\u001b[39m\u001b[38;5;124;03m\"\"\"\u001b[39;00m\n\u001b[0;32m    573\u001b[0m \u001b[38;5;124;03mCheck the length of data matches the length of the index.\u001b[39;00m\n\u001b[0;32m    574\u001b[0m \u001b[38;5;124;03m\"\"\"\u001b[39;00m\n\u001b[0;32m    575\u001b[0m \u001b[38;5;28;01mif\u001b[39;00m \u001b[38;5;28mlen\u001b[39m(data) \u001b[38;5;241m!=\u001b[39m \u001b[38;5;28mlen\u001b[39m(index):\n\u001b[1;32m--> 576\u001b[0m     \u001b[38;5;28;01mraise\u001b[39;00m \u001b[38;5;167;01mValueError\u001b[39;00m(\n\u001b[0;32m    577\u001b[0m         \u001b[38;5;124m\"\u001b[39m\u001b[38;5;124mLength of values \u001b[39m\u001b[38;5;124m\"\u001b[39m\n\u001b[0;32m    578\u001b[0m         \u001b[38;5;124mf\u001b[39m\u001b[38;5;124m\"\u001b[39m\u001b[38;5;124m(\u001b[39m\u001b[38;5;132;01m{\u001b[39;00m\u001b[38;5;28mlen\u001b[39m(data)\u001b[38;5;132;01m}\u001b[39;00m\u001b[38;5;124m) \u001b[39m\u001b[38;5;124m\"\u001b[39m\n\u001b[0;32m    579\u001b[0m         \u001b[38;5;124m\"\u001b[39m\u001b[38;5;124mdoes not match length of index \u001b[39m\u001b[38;5;124m\"\u001b[39m\n\u001b[0;32m    580\u001b[0m         \u001b[38;5;124mf\u001b[39m\u001b[38;5;124m\"\u001b[39m\u001b[38;5;124m(\u001b[39m\u001b[38;5;132;01m{\u001b[39;00m\u001b[38;5;28mlen\u001b[39m(index)\u001b[38;5;132;01m}\u001b[39;00m\u001b[38;5;124m)\u001b[39m\u001b[38;5;124m\"\u001b[39m\n\u001b[0;32m    581\u001b[0m     )\n",
      "\u001b[1;31mValueError\u001b[0m: Length of values (311) does not match length of index (12)"
     ]
    }
   ],
   "source": [
    "coef = pd.Series(lr_reg.coef_,index = X_features.columns)\n",
    "coef_sort = coef.sort_values(ascending=False)\n",
    "sns.barplot(x=coef_sort.values, y=coef_sort.index)"
   ]
  },
  {
   "cell_type": "code",
   "execution_count": null,
   "id": "2cbd789e",
   "metadata": {},
   "outputs": [],
   "source": [
    "coef = pd.Series(ridge_reg.coef_,index = X_features.columns)\n",
    "coef_sort = coef.sort_values(ascending=False)\n",
    "sns.barplot(x=coef_sort.values, y=coef_sort.index)"
   ]
  },
  {
   "cell_type": "code",
   "execution_count": null,
   "id": "d0592be3",
   "metadata": {},
   "outputs": [],
   "source": [
    "coef = pd.Series(lasso_reg.coef_,index = X_features.columns)\n",
    "coef_sort = coef.sort_values(ascending=False)\n",
    "sns.barplot(x=coef_sort.values, y=coef_sort.index)"
   ]
  },
  {
   "cell_type": "code",
   "execution_count": null,
   "id": "4d1d6e0d",
   "metadata": {},
   "outputs": [],
   "source": [
    "def visualize_coefficient(models):\n",
    "    #3개의 회귀 모델의 시각화를 위헤 3개의 칼럼을 가지는 subplot 생성\n",
    "    fig, axs = plt.subplots(figsize=(24,10), nrows=1, ncols=3)\n",
    "    fig.tight_layout()\n",
    "    # 입력인자로 받은 list객체인 models에서 차례로 model을 추출해 회귀계수시각화\n",
    "    # models 리스트에 있는 모든 회귀 모델을 순회합니다.\n",
    "    for i_num, model in enumerate(models):\n",
    "        # 해당 모델의 상위 10개 및 하위 10개 회귀 계수를 가져옵니다.\n",
    "        # get_top_bottom_coef 함수는 모델을 인자로 받아 두 개의 시리즈(상위 10개, 하위 10개 회귀 계수)를 반환합니다.\n",
    "        coef_high, coef_low = get_top_bottom_coef(model)\n",
    "\n",
    "        # 상위 10개와 하위 10개 회귀 계수를 결합합니다.\n",
    "        # pd.concat 함수는 여러 개의 pandas 객체를 축을 따라 결합합니다. 여기서는 상위와 하위 계수를 세로로 결합합니다.\n",
    "        coef_concat = pd.concat([coef_high, coef_low])\n",
    "\n",
    "        # 각 모델에 대한 subplot의 제목을 설정합니다. \n",
    "        # 모델의 클래스 이름을 가져와서 제목으로 사용하고, 제목의 크기를 25로 설정합니다.\n",
    "        axs[i_num].set_title(model.__class__.__name__+' Coefficients', size=15)\n",
    "\n",
    "        # y축의 눈금 설정을 조정합니다. 눈금의 방향을 안으로('in') 설정하고, 눈금 레이블의 위치를 조정하기 위해 pad 값을 -120으로 설정합니다.\n",
    "        axs[i_num].tick_params(axis='y', direction=\"in\", pad=-120)\n",
    "\n",
    "        # x축과 y축의 눈금 레이블의 폰트 크기를 조정합니다.\n",
    "        # get_xticklabels()와 get_yticklabels() 함수를 사용하여 각각의 레이블을 가져온 후, 폰트 크기를 22로 설정합니다.\n",
    "        for label in (axs[i_num].get_xticklabels() + axs[i_num].get_yticklabels()):\n",
    "            label.set_fontsize(12)\n",
    "\n",
    "        # seaborn의 barplot을 사용하여 회귀 계수를 막대 그래프로 표현합니다.\n",
    "        # x축에는 계수의 값, y축에는 계수의 이름(인덱스)를 표시합니다. ax=axs[i_num]을 통해 해당 subplot에 그래프를 그립니다.\n",
    "        sns.barplot(x=coef_concat.values, y=coef_concat.index, ax=axs[i_num])\n",
    "\n",
    "        \n",
    "# 앞 예제에서 학습한  lr_reg, ridge_reg, lasso_reg모델의 회귀 계수 시각화.\n",
    "models = [lasso_reg]\n",
    "visualize_coefficient(models)"
   ]
  },
  {
   "cell_type": "code",
   "execution_count": null,
   "id": "bfa50aeb",
   "metadata": {},
   "outputs": [],
   "source": [
    "coef = pd.Series(model.coef_, index = X_features.columns)\n",
    "coef_sort = coef.sort_values(ascending=False)\n",
    "\n",
    "models = [lr_reg, ridge_reg, lasso_reg]\n",
    "visualize_coefficient(models)"
   ]
  },
  {
   "cell_type": "markdown",
   "id": "83d609db",
   "metadata": {},
   "source": [
    "## 각 피처의 회귀 계숫값을 시각화 해보자."
   ]
  },
  {
   "cell_type": "markdown",
   "id": "900233e4",
   "metadata": {},
   "source": [
    "## 이전수치\n",
    "### (original)\n",
    "### LinearRegression ###\n",
    "RMSLE:0.462, RMSE:3.204, MAE:2.145\n",
    "### Ridge ###\n",
    "RMSLE:0.462, RMSE:3.204, MAE:2.145\n",
    "### Lasso ###\n",
    "RMSLE:0.465, RMSE:3.229, MAE:2.153\n",
    "### (이상치 제거)\n",
    "### LinearRegression ###\n",
    "RMSLE:0.375, RMSE:1.914, MAE:1.557\n",
    "### Ridge ###\n",
    "RMSLE:0.375, RMSE:1.914, MAE:1.557\n",
    "### Lasso ###\n",
    "RMSLE:0.377, RMSE:1.923, MAE:1.568\n",
    "#### 좀더 나아짐"
   ]
  }
 ],
 "metadata": {
  "kernelspec": {
   "display_name": "Python 3 (ipykernel)",
   "language": "python",
   "name": "python3"
  },
  "language_info": {
   "codemirror_mode": {
    "name": "ipython",
    "version": 3
   },
   "file_extension": ".py",
   "mimetype": "text/x-python",
   "name": "python",
   "nbconvert_exporter": "python",
   "pygments_lexer": "ipython3",
   "version": "3.11.5"
  }
 },
 "nbformat": 4,
 "nbformat_minor": 5
}
